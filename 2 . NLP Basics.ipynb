{
 "cells": [
  {
   "cell_type": "markdown",
   "id": "c8f26d86",
   "metadata": {},
   "source": [
    "# <span style = \"color:#68026e;font-family:calibri\"> Introduction to Natural Language Processing"
   ]
  },
  {
   "cell_type": "markdown",
   "id": "ac509237",
   "metadata": {},
   "source": [
    "## <span style = \"color:#68026e;font-family:calibri\"> Understanding Basic NLP Topics\n",
    "* Tokenization\n",
    "* Stemming\n",
    "* Lemmatization\n",
    "* Stop Words</sppan>\n",
    "### <span style = \"color:#68026e;font-family:calibri\"> Spacy For Vocabulary Matching"
   ]
  },
  {
   "cell_type": "markdown",
   "id": "b20b539d",
   "metadata": {},
   "source": [
    "### <span style = \"color:#68026e;font-family:calibri\"> Spacy is an open source Natural Language Processing library designed to effectively handle NLP task with the most effcient implementation of common algorithms."
   ]
  },
  {
   "cell_type": "markdown",
   "id": "87671e07",
   "metadata": {},
   "source": [
    "## <span style = \"color:#68026e;font-family:calibri\"> NLTK -  Natural Language Toolkit\n",
    "* Also a popular open source.\n",
    "* It was initially released in 2001, it is much older than Spacy(released 2015).\n",
    "* It also provides many functionalities, but includes less efficient implementations."
   ]
  },
  {
   "cell_type": "markdown",
   "id": "cfb96e0a",
   "metadata": {},
   "source": [
    "#### <span style = \"color:#68026e;font-family:calibri\"> Spacy is faster to se in comparison to NLTK however, Spaccy doesn't include pre-created for some applicatio, such as sentiment  analysis, which is typically easier to perform with NLTK  "
   ]
  },
  {
   "cell_type": "markdown",
   "id": "fb8ab88f",
   "metadata": {},
   "source": [
    "### <span style = \"color:#68026e;font-family:calibri\"> What is Natural Language Processing"
   ]
  },
  {
   "cell_type": "markdown",
   "id": "2850668a",
   "metadata": {},
   "source": [
    "### <span style = \"color:#68026e;font-family:calibri\">`According to Wikipedia` `Natural Language Processing(NLP)` is an area of computer science and artifical intelligence with the interactions between computers and human (natural) languages, in particular how to program computers to process and analyze large amounts of natual language data."
   ]
  },
  {
   "cell_type": "markdown",
   "id": "101f6d49",
   "metadata": {},
   "source": [
    "## <span style = \"color:#68026e;font-family:calibri\"> Examples Use Cases of NLP:\n",
    "* Classifying Emails as Spam vs Legitimate\n",
    "* Sentiment Analysis of Text Movie\n",
    "* Analyzed Trends from written customer feedback forms.\n",
    "* Understanding text commands, \" Hey Google, play this song\" like Google Alexa, Apple Siri"
   ]
  },
  {
   "cell_type": "markdown",
   "id": "f794ac02",
   "metadata": {},
   "source": [
    "## <span style = \"color:#68026e;font-family:calibri\"> Spacy Basics:\n",
    "* Loading a Language Library\n",
    "* Building a Pipelie Object\n",
    "* Using Tokens\n",
    "* Part-Of-Speech Tagging\n",
    "* Understanding Token Attributes"
   ]
  },
  {
   "cell_type": "markdown",
   "id": "8a168b70",
   "metadata": {},
   "source": [
    "#### The nlp() function from Spacy automatically takes raw text and performs a series of operations to tag, parse,and describe the text data."
   ]
  },
  {
   "cell_type": "code",
   "execution_count": 1,
   "id": "685ed807",
   "metadata": {},
   "outputs": [],
   "source": [
    "import spacy"
   ]
  },
  {
   "cell_type": "code",
   "execution_count": 2,
   "id": "21f02407",
   "metadata": {},
   "outputs": [],
   "source": [
    "nlp = spacy.load(\"en_core_web_sm\")"
   ]
  },
  {
   "cell_type": "markdown",
   "id": "70f3662a",
   "metadata": {},
   "source": [
    "#### With Spacy.Load we have loaded a small version of language library"
   ]
  },
  {
   "cell_type": "code",
   "execution_count": 3,
   "id": "906b635f",
   "metadata": {},
   "outputs": [],
   "source": [
    "doc = nlp(u'Tesla is looking at buying U.S. startup at $6 million')"
   ]
  },
  {
   "cell_type": "markdown",
   "id": "ba7009da",
   "metadata": {},
   "source": [
    "#### With the language library we have loaded and saved in nlp will sparse the string into a seperate components.It will prase it what is know as tokens, tokens are essentially each single word of text."
   ]
  },
  {
   "cell_type": "code",
   "execution_count": 5,
   "id": "960e4257",
   "metadata": {},
   "outputs": [
    {
     "name": "stdout",
     "output_type": "stream",
     "text": [
      "Tesla\n",
      "is\n",
      "looking\n",
      "at\n",
      "buying\n",
      "U.S.\n",
      "startup\n",
      "at\n",
      "$\n",
      "6\n",
      "million\n"
     ]
    }
   ],
   "source": [
    "for token in doc:\n",
    "    print(token.text)### it will print the each text"
   ]
  },
  {
   "cell_type": "code",
   "execution_count": 6,
   "id": "d71c2bab",
   "metadata": {},
   "outputs": [
    {
     "name": "stdout",
     "output_type": "stream",
     "text": [
      "Tesla 92\n",
      "is 87\n",
      "looking 100\n",
      "at 85\n",
      "buying 100\n",
      "U.S. 96\n",
      "startup 92\n",
      "at 85\n",
      "$ 99\n",
      "6 93\n",
      "million 93\n"
     ]
    }
   ],
   "source": [
    "for token in doc:\n",
    "    print(token.text,token.pos)# pos stands for part of speech"
   ]
  },
  {
   "cell_type": "markdown",
   "id": "30e735e4",
   "metadata": {},
   "source": [
    "### These number referes to Part Of Speech like punctuation, noun, pronoun, verb.. The desctiption of the number can be seen below by using .pos_"
   ]
  },
  {
   "cell_type": "code",
   "execution_count": 7,
   "id": "998efad9",
   "metadata": {},
   "outputs": [
    {
     "name": "stdout",
     "output_type": "stream",
     "text": [
      "Tesla NOUN\n",
      "is AUX\n",
      "looking VERB\n",
      "at ADP\n",
      "buying VERB\n",
      "U.S. PROPN\n",
      "startup NOUN\n",
      "at ADP\n",
      "$ SYM\n",
      "6 NUM\n",
      "million NUM\n"
     ]
    }
   ],
   "source": [
    "for token in doc:\n",
    "    print(token.text,token.pos_)"
   ]
  },
  {
   "cell_type": "code",
   "execution_count": 8,
   "id": "46aaabce",
   "metadata": {},
   "outputs": [
    {
     "name": "stdout",
     "output_type": "stream",
     "text": [
      "Tesla NOUN nsubj\n",
      "is AUX aux\n",
      "looking VERB ROOT\n",
      "at ADP prep\n",
      "buying VERB pcomp\n",
      "U.S. PROPN compound\n",
      "startup NOUN dobj\n",
      "at ADP prep\n",
      "$ SYM quantmod\n",
      "6 NUM compound\n",
      "million NUM pobj\n"
     ]
    }
   ],
   "source": [
    "for token in doc:\n",
    "    print(token.text,token.pos_, token.dep_)"
   ]
  },
  {
   "cell_type": "markdown",
   "id": "95a146bb",
   "metadata": {},
   "source": [
    "####  .dep_ here decribe syntactic depandency "
   ]
  },
  {
   "cell_type": "markdown",
   "id": "4f18a170",
   "metadata": {},
   "source": [
    "#### Above we created object called `\"nlp\"` and assigned a load function , also we created `doc` object contained strings in it. `Spacy` also build a companion vocab object for vacubulary"
   ]
  },
  {
   "cell_type": "code",
   "execution_count": 9,
   "id": "dc5462e7",
   "metadata": {},
   "outputs": [
    {
     "data": {
      "text/plain": [
       "[('tok2vec', <spacy.pipeline.tok2vec.Tok2Vec at 0x1fa7044bfa0>),\n",
       " ('tagger', <spacy.pipeline.tagger.Tagger at 0x1fa7044bee0>),\n",
       " ('parser', <spacy.pipeline.dep_parser.DependencyParser at 0x1fa706ff7b0>),\n",
       " ('attribute_ruler',\n",
       "  <spacy.pipeline.attributeruler.AttributeRuler at 0x1fa705ed700>),\n",
       " ('lemmatizer', <spacy.lang.en.lemmatizer.EnglishLemmatizer at 0x1fa7047eb40>),\n",
       " ('ner', <spacy.pipeline.ner.EntityRecognizer at 0x1fa706ff430>)]"
      ]
     },
     "execution_count": 9,
     "metadata": {},
     "output_type": "execute_result"
    }
   ],
   "source": [
    "nlp.pipeline"
   ]
  },
  {
   "cell_type": "markdown",
   "id": "345fca9a",
   "metadata": {},
   "source": [
    "### When we run nlp object out text is running through procesing pipline and perform above series of operation like token, tagging, parser, ner(named entity recognizer)"
   ]
  },
  {
   "cell_type": "code",
   "execution_count": 10,
   "id": "ffbc66f5",
   "metadata": {},
   "outputs": [
    {
     "data": {
      "text/plain": [
       "['tok2vec', 'tagger', 'parser', 'attribute_ruler', 'lemmatizer', 'ner']"
      ]
     },
     "execution_count": 10,
     "metadata": {},
     "output_type": "execute_result"
    }
   ],
   "source": [
    "nlp.pipe_names"
   ]
  },
  {
   "cell_type": "markdown",
   "id": "71c3fe64",
   "metadata": {},
   "source": [
    "## <span style = \"color:#68026e;font-family:calibri\"> Tokenization"
   ]
  },
  {
   "cell_type": "markdown",
   "id": "420f082c",
   "metadata": {},
   "source": [
    "#### The very first step in processing any text is to split all the component part that is the words, punctuation into tokens and these tokens annotated inside the `doc` object to contain the descriptive information"
   ]
  },
  {
   "cell_type": "code",
   "execution_count": 11,
   "id": "b54756d6",
   "metadata": {},
   "outputs": [],
   "source": [
    "doc2  = nlp(u\"Tesla isn't lokking into startups anymore.\")"
   ]
  },
  {
   "cell_type": "code",
   "execution_count": 12,
   "id": "4ff05222",
   "metadata": {},
   "outputs": [
    {
     "name": "stdout",
     "output_type": "stream",
     "text": [
      "Tesla NOUN nsubj\n",
      "is AUX aux\n",
      "n't PART neg\n",
      "lokking VERB ROOT\n",
      "into ADP prep\n",
      "startups NOUN pobj\n",
      "anymore ADV advmod\n",
      ". PUNCT punct\n"
     ]
    }
   ],
   "source": [
    "for token in doc2:\n",
    "    print(token.text, token.pos_, token.dep_)"
   ]
  },
  {
   "cell_type": "code",
   "execution_count": 23,
   "id": "eaf74211",
   "metadata": {},
   "outputs": [],
   "source": [
    "doc3  = nlp(u\"Apple isn't    lokking into startups anymore.\")"
   ]
  },
  {
   "cell_type": "code",
   "execution_count": 22,
   "id": "62890ebf",
   "metadata": {},
   "outputs": [
    {
     "name": "stdout",
     "output_type": "stream",
     "text": [
      "Tesla NOUN nsubj\n",
      "is AUX aux\n",
      "n't PART neg\n",
      "    SPACE dep\n",
      "lokking VERB ROOT\n",
      "into ADP prep\n",
      "startups NOUN pobj\n",
      "anymore ADV advmod\n",
      ". PUNCT punct\n"
     ]
    }
   ],
   "source": [
    "for token in doc3:\n",
    "    print(token.text, token.pos_, token.dep_)"
   ]
  },
  {
   "cell_type": "markdown",
   "id": "31e8047e",
   "metadata": {},
   "source": [
    "#### So far we have seen the iteration but we can actually use indexing"
   ]
  },
  {
   "cell_type": "code",
   "execution_count": 24,
   "id": "daafbb27",
   "metadata": {},
   "outputs": [
    {
     "data": {
      "text/plain": [
       "Apple"
      ]
     },
     "execution_count": 24,
     "metadata": {},
     "output_type": "execute_result"
    }
   ],
   "source": [
    "doc3[0]"
   ]
  },
  {
   "cell_type": "code",
   "execution_count": 25,
   "id": "c7db0b17",
   "metadata": {},
   "outputs": [
    {
     "data": {
      "text/plain": [
       "'PROPN'"
      ]
     },
     "execution_count": 25,
     "metadata": {},
     "output_type": "execute_result"
    }
   ],
   "source": [
    "doc3[0].pos_"
   ]
  },
  {
   "cell_type": "markdown",
   "id": "f17f3569",
   "metadata": {},
   "source": [
    "#### we can see with Spcay part of speech can be easliy recognized  we can see the list of POS on the this link: https://spacy.io/usage/linguistic-features"
   ]
  },
  {
   "cell_type": "code",
   "execution_count": 26,
   "id": "5be4c7d6",
   "metadata": {},
   "outputs": [
    {
     "data": {
      "text/plain": [
       "'nsubj'"
      ]
     },
     "execution_count": 26,
     "metadata": {},
     "output_type": "execute_result"
    }
   ],
   "source": [
    "doc3[0].dep_"
   ]
  },
  {
   "cell_type": "markdown",
   "id": "4860b25b",
   "metadata": {},
   "source": [
    "### Syntactic dependency https://spacy.io/api/dependencyparser/\n",
    "<br>A good explanation of typed dependencies can be found [here](https://nlp.stanford.edu/software/dependencies_manual.pdf)"
   ]
  },
  {
   "cell_type": "markdown",
   "id": "ec959ee9",
   "metadata": {},
   "source": [
    "## Additional Token Attributes\n",
    "We'll see these again in upcoming lectures. For now we just want to illustrate some of the other information that spaCy assigns to tokens:"
   ]
  },
  {
   "cell_type": "markdown",
   "id": "0e4d1815",
   "metadata": {},
   "source": [
    "|Tag|Description|doc2[0].tag|\n",
    "|:------|:------:|:------|\n",
    "|`.text`|The original word text<!-- .element: style=\"text-align:left;\" -->|`Tesla`|\n",
    "|`.lemma_`|The base form of the word|`tesla`|\n",
    "|`.pos_`|The simple part-of-speech tag|`PROPN`/`proper noun`|\n",
    "|`.tag_`|The detailed part-of-speech tag|`NNP`/`noun, proper singular`|\n",
    "|`.shape_`|The word shape – capitalization, punctuation, digits|`Xxxxx`|\n",
    "|`.is_alpha`|Is the token an alpha character?|`True`|\n",
    "|`.is_stop`|Is the token part of a stop list, i.e. the most common words of the language?|`False`|"
   ]
  },
  {
   "cell_type": "markdown",
   "id": "86c1b2d3",
   "metadata": {},
   "source": [
    "\n",
    "## Spans\n",
    "Large Doc objects can be hard to work with at times. A **span** is a slice of Doc object in the form `Doc[start:stop]`."
   ]
  },
  {
   "cell_type": "code",
   "execution_count": 27,
   "id": "2b3af6f7",
   "metadata": {},
   "outputs": [],
   "source": [
    "doc3 = nlp(u'Although commmonly attributed to John Lennon from his song \"Beautiful Boy\", \\\n",
    "the phrase \"Life is what happens to us while we are making other plans\" was written by \\\n",
    "cartoonist Allen Saunders and published in Reader\\'s Digest in 1957, when Lennon was 17.')"
   ]
  },
  {
   "cell_type": "code",
   "execution_count": 28,
   "id": "872ca9c3",
   "metadata": {},
   "outputs": [],
   "source": [
    "life_quote = doc3[16:30]"
   ]
  },
  {
   "cell_type": "code",
   "execution_count": 29,
   "id": "365fe5c7",
   "metadata": {},
   "outputs": [
    {
     "name": "stdout",
     "output_type": "stream",
     "text": [
      "\"Life is what happens to us while we are making other plans\"\n"
     ]
    }
   ],
   "source": [
    "print(life_quote)"
   ]
  },
  {
   "cell_type": "code",
   "execution_count": 30,
   "id": "bd57deb4",
   "metadata": {},
   "outputs": [
    {
     "data": {
      "text/plain": [
       "spacy.tokens.span.Span"
      ]
     },
     "execution_count": 30,
     "metadata": {},
     "output_type": "execute_result"
    }
   ],
   "source": [
    "type(life_quote)"
   ]
  },
  {
   "cell_type": "code",
   "execution_count": 31,
   "id": "1f554eed",
   "metadata": {},
   "outputs": [
    {
     "data": {
      "text/plain": [
       "spacy.tokens.doc.Doc"
      ]
     },
     "execution_count": 31,
     "metadata": {},
     "output_type": "execute_result"
    }
   ],
   "source": [
    "type(doc3)"
   ]
  },
  {
   "cell_type": "code",
   "execution_count": 33,
   "id": "08e1631c",
   "metadata": {},
   "outputs": [],
   "source": [
    "doc4 = nlp(u\"This is the first sentence. This is the another sentence. This  is the last sentence\")"
   ]
  },
  {
   "cell_type": "code",
   "execution_count": 34,
   "id": "d0e4d0a9",
   "metadata": {},
   "outputs": [
    {
     "name": "stdout",
     "output_type": "stream",
     "text": [
      "This is the first sentence.\n",
      "This is the another sentence.\n",
      "This  is the last sentence\n"
     ]
    }
   ],
   "source": [
    "for sentence  in doc4.sents:\n",
    "    print(sentence)"
   ]
  },
  {
   "cell_type": "markdown",
   "id": "9bd1468b",
   "metadata": {},
   "source": [
    "#### Spcay with `\".sents\"` automatically to break sentence basis of period and space"
   ]
  },
  {
   "cell_type": "code",
   "execution_count": 35,
   "id": "bce609a5",
   "metadata": {},
   "outputs": [
    {
     "data": {
      "text/plain": [
       "This"
      ]
     },
     "execution_count": 35,
     "metadata": {},
     "output_type": "execute_result"
    }
   ],
   "source": [
    "doc4[6]"
   ]
  },
  {
   "cell_type": "code",
   "execution_count": 36,
   "id": "deb02d5e",
   "metadata": {},
   "outputs": [
    {
     "data": {
      "text/plain": [
       "True"
      ]
     },
     "execution_count": 36,
     "metadata": {},
     "output_type": "execute_result"
    }
   ],
   "source": [
    "doc4[6].is_sent_start"
   ]
  },
  {
   "cell_type": "markdown",
   "id": "138b47a0",
   "metadata": {},
   "source": [
    "#### `.is_sent_start` checks is it start of sentence"
   ]
  },
  {
   "cell_type": "markdown",
   "id": "657ea3b2",
   "metadata": {},
   "source": [
    "# <span style = \"color:#68026e;font-family:calibri\"> Tokenization"
   ]
  },
  {
   "cell_type": "markdown",
   "id": "425ca62f",
   "metadata": {},
   "source": [
    "### `Tokenzation` is the process of breaking up the original text into component pieces (tokens)"
   ]
  },
  {
   "cell_type": "markdown",
   "id": "180536a9",
   "metadata": {},
   "source": [
    "<img src=\"data:image/png;base64,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\" />"
   ]
  },
  {
   "cell_type": "markdown",
   "id": "c185bc9b",
   "metadata": {},
   "source": [
    "### Above diagram shows how spacy works for us while doing `tokenization`"
   ]
  },
  {
   "cell_type": "markdown",
   "id": "2b9aa322",
   "metadata": {},
   "source": [
    "* Notice that tokens are peices of the original text.\n",
    "* We don't see any coversation to word stems or lemmas (based forms of words) and we haven't seen anything about organization/places/money etc."
   ]
  },
  {
   "cell_type": "markdown",
   "id": "0efb24ca",
   "metadata": {},
   "source": [
    "#### `Tokens` are the basic building blocks of a Doc object - everything that helps us understand the meaning of the text is derived from tokens and thier relationship to one another"
   ]
  },
  {
   "cell_type": "markdown",
   "id": "7e5d567d",
   "metadata": {},
   "source": [
    "* `Prefix`: Character(s) at the beginning e.g. `$(\"`\n",
    "* `Suffix`: Character(s) at the end e.g. `km),.!\"`\n",
    "    * `Infix`: Character(s) in between e.g. `- --/ ...`\n",
    "* `Exception`: Special-case rule to split a string into several tokens or prevent a token from being split when punctuation rules applied. e.g.`Let's U.S.`"
   ]
  },
  {
   "cell_type": "markdown",
   "id": "20ef04d9",
   "metadata": {},
   "source": [
    "#### `Tokens` have a variety of useful attributes and methods."
   ]
  },
  {
   "cell_type": "code",
   "execution_count": 37,
   "id": "c19babb1",
   "metadata": {},
   "outputs": [],
   "source": [
    "mystring = '\"We\\'re moving to L.A. !\"'"
   ]
  },
  {
   "cell_type": "code",
   "execution_count": 40,
   "id": "33fe5abd",
   "metadata": {},
   "outputs": [
    {
     "name": "stdout",
     "output_type": "stream",
     "text": [
      "\"We're moving to L.A. !\"\n"
     ]
    }
   ],
   "source": [
    "print(mystring)"
   ]
  },
  {
   "cell_type": "code",
   "execution_count": 41,
   "id": "70e10e2a",
   "metadata": {},
   "outputs": [],
   "source": [
    "doc = nlp(mystring)"
   ]
  },
  {
   "cell_type": "code",
   "execution_count": 42,
   "id": "7ec9fa66",
   "metadata": {},
   "outputs": [
    {
     "name": "stdout",
     "output_type": "stream",
     "text": [
      "\"\n",
      "We\n",
      "'re\n",
      "moving\n",
      "to\n",
      "L.A.\n",
      "!\n",
      "\"\n"
     ]
    }
   ],
   "source": [
    "for token in doc:\n",
    "    print(token.text)"
   ]
  },
  {
   "cell_type": "markdown",
   "id": "32f87e27",
   "metadata": {},
   "source": [
    "#### `Spacy` keep punctuation isolated with assiging them token, but if is part of an email add, website add, numerical value will be kept as part of same token"
   ]
  },
  {
   "cell_type": "code",
   "execution_count": 43,
   "id": "c22b79eb",
   "metadata": {},
   "outputs": [],
   "source": [
    "doc2 = nlp(u\"We're here to help! Send snail-mail, email support@oursite.com or vist us at http://www.oursite.com!\")"
   ]
  },
  {
   "cell_type": "markdown",
   "id": "3da35704",
   "metadata": {},
   "source": [
    "We can see it is a complex string to analyze"
   ]
  },
  {
   "cell_type": "code",
   "execution_count": 44,
   "id": "54914781",
   "metadata": {},
   "outputs": [
    {
     "name": "stdout",
     "output_type": "stream",
     "text": [
      "We\n",
      "'re\n",
      "here\n",
      "to\n",
      "help\n",
      "!\n",
      "Send\n",
      "snail\n",
      "-\n",
      "mail\n",
      ",\n",
      "email\n",
      "support@oursite.com\n",
      "or\n",
      "vist\n",
      "us\n",
      "at\n",
      "http://www.oursite.com\n",
      "!\n"
     ]
    }
   ],
   "source": [
    "for t in doc2:\n",
    "    print(t)"
   ]
  },
  {
   "cell_type": "code",
   "execution_count": 45,
   "id": "e7abb5da",
   "metadata": {},
   "outputs": [],
   "source": [
    "doc3 = nlp(u\"A 5km NYC cabride costs $10.30\")"
   ]
  },
  {
   "cell_type": "code",
   "execution_count": 46,
   "id": "7203b1e0",
   "metadata": {},
   "outputs": [
    {
     "name": "stdout",
     "output_type": "stream",
     "text": [
      "A\n",
      "5\n",
      "km\n",
      "NYC\n",
      "cabride\n",
      "costs\n",
      "$\n",
      "10.30\n"
     ]
    }
   ],
   "source": [
    "for t in doc3:\n",
    "    print(t)"
   ]
  },
  {
   "cell_type": "code",
   "execution_count": 47,
   "id": "3d22cc88",
   "metadata": {},
   "outputs": [],
   "source": [
    "doc4 = nlp(u\"let's visit St. Louis in th U.S. next year.\" )"
   ]
  },
  {
   "cell_type": "code",
   "execution_count": 48,
   "id": "6efa42cf",
   "metadata": {},
   "outputs": [
    {
     "name": "stdout",
     "output_type": "stream",
     "text": [
      "let\n",
      "'s\n",
      "visit\n",
      "St.\n",
      "Louis\n",
      "in\n",
      "th\n",
      "U.S.\n",
      "next\n",
      "year\n",
      ".\n"
     ]
    }
   ],
   "source": [
    "for t in doc4:\n",
    "    print(t)"
   ]
  },
  {
   "cell_type": "markdown",
   "id": "c80a81c4",
   "metadata": {},
   "source": [
    "#### We can see from above examples that we don't have to tell anything to `Spacy` which rule to follow. It is smart enough to seperate tokens"
   ]
  },
  {
   "cell_type": "code",
   "execution_count": 49,
   "id": "33babf92",
   "metadata": {},
   "outputs": [
    {
     "data": {
      "text/plain": [
       "11"
      ]
     },
     "execution_count": 49,
     "metadata": {},
     "output_type": "execute_result"
    }
   ],
   "source": [
    "len(doc4)"
   ]
  },
  {
   "cell_type": "markdown",
   "id": "8d64994f",
   "metadata": {},
   "source": [
    "#### We can also count and Vocab entry. Vocab Object contains a full library of items "
   ]
  },
  {
   "cell_type": "code",
   "execution_count": 51,
   "id": "fcf7fe5d",
   "metadata": {},
   "outputs": [
    {
     "data": {
      "text/plain": [
       "846"
      ]
     },
     "execution_count": 51,
     "metadata": {},
     "output_type": "execute_result"
    }
   ],
   "source": [
    "len(doc4.vocab)"
   ]
  },
  {
   "cell_type": "code",
   "execution_count": 55,
   "id": "0d017a07",
   "metadata": {},
   "outputs": [],
   "source": [
    "doc5 = nlp(u\"It is better to give than receive.\")"
   ]
  },
  {
   "cell_type": "code",
   "execution_count": 56,
   "id": "17a39776",
   "metadata": {},
   "outputs": [
    {
     "data": {
      "text/plain": [
       "It"
      ]
     },
     "execution_count": 56,
     "metadata": {},
     "output_type": "execute_result"
    }
   ],
   "source": [
    "doc5[0]"
   ]
  },
  {
   "cell_type": "code",
   "execution_count": 57,
   "id": "2347cf21",
   "metadata": {},
   "outputs": [
    {
     "data": {
      "text/plain": [
       "better to give"
      ]
     },
     "execution_count": 57,
     "metadata": {},
     "output_type": "execute_result"
    }
   ],
   "source": [
    "doc5[2:5]"
   ]
  },
  {
   "cell_type": "markdown",
   "id": "d1c5a890",
   "metadata": {},
   "source": [
    "#### <span style = \"color:red;font-family:calibri\"> Important Note: `Tokens` cannot be reassigned, although document objects can be considered list of tokens hey do not support item reassignemnt."
   ]
  },
  {
   "cell_type": "code",
   "execution_count": 58,
   "id": "f3186fbc",
   "metadata": {},
   "outputs": [
    {
     "ename": "TypeError",
     "evalue": "'spacy.tokens.doc.Doc' object does not support item assignment",
     "output_type": "error",
     "traceback": [
      "\u001b[1;31m---------------------------------------------------------------------------\u001b[0m",
      "\u001b[1;31mTypeError\u001b[0m                                 Traceback (most recent call last)",
      "\u001b[1;32m~\\AppData\\Local\\Temp\\ipykernel_3320\\2419068765.py\u001b[0m in \u001b[0;36m<module>\u001b[1;34m\u001b[0m\n\u001b[1;32m----> 1\u001b[1;33m \u001b[0mdoc5\u001b[0m\u001b[1;33m[\u001b[0m\u001b[1;36m0\u001b[0m\u001b[1;33m]\u001b[0m\u001b[1;33m=\u001b[0m \u001b[1;34m'test'\u001b[0m\u001b[1;33m\u001b[0m\u001b[1;33m\u001b[0m\u001b[0m\n\u001b[0m",
      "\u001b[1;31mTypeError\u001b[0m: 'spacy.tokens.doc.Doc' object does not support item assignment"
     ]
    }
   ],
   "source": [
    "doc5[0]= 'test'"
   ]
  },
  {
   "cell_type": "markdown",
   "id": "0d2f4c35",
   "metadata": {},
   "source": [
    "### `Spacy` can actually go a step beyond a simple tokens, it can actually understand `named entities`. Named entities another layer of context. The language model we loaded at the begning recongnizes that certain words are organization name while other's are locations and other combinations like money or dates.`Names entities` are accessible through `.ents` property of a document object    "
   ]
  },
  {
   "cell_type": "code",
   "execution_count": 75,
   "id": "0e351cdc",
   "metadata": {},
   "outputs": [],
   "source": [
    "doc6 = nlp('Apple to build a Hong Kong factory for $6 million')"
   ]
  },
  {
   "cell_type": "code",
   "execution_count": 76,
   "id": "7ee7da7b",
   "metadata": {},
   "outputs": [
    {
     "name": "stdout",
     "output_type": "stream",
     "text": [
      "Apple | to | build | a | Hong | Kong | factory | for | $ | 6 | million | "
     ]
    }
   ],
   "source": [
    "for token in doc6:\n",
    "    print(token.text, end = \" | \")"
   ]
  },
  {
   "cell_type": "code",
   "execution_count": 77,
   "id": "923ed1bf",
   "metadata": {},
   "outputs": [
    {
     "name": "stdout",
     "output_type": "stream",
     "text": [
      "Hong Kong\n",
      "$6 million\n"
     ]
    }
   ],
   "source": [
    "for entity in doc6.ents:\n",
    "    print(entity)"
   ]
  },
  {
   "cell_type": "code",
   "execution_count": 78,
   "id": "b6532d83",
   "metadata": {},
   "outputs": [
    {
     "name": "stdout",
     "output_type": "stream",
     "text": [
      "Hong Kong\n",
      "GPE\n",
      "\n",
      "\n",
      "$6 million\n",
      "MONEY\n",
      "\n",
      "\n"
     ]
    }
   ],
   "source": [
    "for entity in doc6.ents:\n",
    "    print(entity)\n",
    "    print(entity.label_)\n",
    "    print('\\n')"
   ]
  },
  {
   "cell_type": "markdown",
   "id": "73f0c996",
   "metadata": {},
   "source": [
    "Named Entity Recognition (NER) is an important machine learning tool applied to Natural Language Processing.<br>We'll do a lot more with it in an upcoming section. For more info on **named entities** visit https://spacy.io/usage/linguistic-features#named-entities"
   ]
  },
  {
   "cell_type": "code",
   "execution_count": 79,
   "id": "5e5ce106",
   "metadata": {},
   "outputs": [
    {
     "name": "stdout",
     "output_type": "stream",
     "text": [
      "Hong Kong\n",
      "GPE\n",
      "Countries, cities, states\n",
      "\n",
      "\n",
      "$6 million\n",
      "MONEY\n",
      "Monetary values, including unit\n",
      "\n",
      "\n"
     ]
    }
   ],
   "source": [
    "for entity in doc6.ents:\n",
    "    print(entity)\n",
    "    print(entity.label_)\n",
    "    print(str(spacy.explain(entity.label_)))\n",
    "    print('\\n')"
   ]
  },
  {
   "cell_type": "code",
   "execution_count": 81,
   "id": "3347e525",
   "metadata": {},
   "outputs": [],
   "source": [
    "doc9 = nlp('Autonomus cars shift insurance liability toward manufacurers.')"
   ]
  },
  {
   "cell_type": "code",
   "execution_count": 82,
   "id": "88c80aa2",
   "metadata": {},
   "outputs": [
    {
     "name": "stdout",
     "output_type": "stream",
     "text": [
      "Autonomus cars\n",
      "insurance liability\n",
      "manufacurers\n"
     ]
    }
   ],
   "source": [
    "for chunk in doc9.noun_chunks:\n",
    "    print(chunk)"
   ]
  },
  {
   "cell_type": "markdown",
   "id": "d8bea958",
   "metadata": {},
   "source": [
    "## <span style = \"color:#68026e;font-family:calibri\"> Tokenization Visualized"
   ]
  },
  {
   "cell_type": "markdown",
   "id": "80c81642",
   "metadata": {},
   "source": [
    "### <span style = \"color:#68026e;font-family:calibri\"> We can actually Visualize the tokens. We can do that with bilt in displacy comes with spacy"
   ]
  },
  {
   "cell_type": "code",
   "execution_count": 3,
   "id": "699a5c4b",
   "metadata": {},
   "outputs": [],
   "source": [
    "from  spacy import displacy"
   ]
  },
  {
   "cell_type": "code",
   "execution_count": 4,
   "id": "a7031386",
   "metadata": {},
   "outputs": [],
   "source": [
    "doc = nlp(u\"Apple is going to biuld a U.K. factory for $6 million.\")"
   ]
  },
  {
   "cell_type": "code",
   "execution_count": 6,
   "id": "31f9ab70",
   "metadata": {},
   "outputs": [
    {
     "data": {
      "text/html": [
       "<span class=\"tex2jax_ignore\"><svg xmlns=\"http://www.w3.org/2000/svg\" xmlns:xlink=\"http://www.w3.org/1999/xlink\" xml:lang=\"en\" id=\"606b58a153b74879b7e2e9433029ad2f-0\" class=\"displacy\" width=\"650\" height=\"237.0\" direction=\"ltr\" style=\"max-width: none; height: 237.0px; color: #000000; background: #ffffff; font-family: Arial; direction: ltr\">\n",
       "<text class=\"displacy-token\" fill=\"currentColor\" text-anchor=\"middle\" y=\"147.0\">\n",
       "    <tspan class=\"displacy-word\" fill=\"currentColor\" x=\"50\">Apple</tspan>\n",
       "    <tspan class=\"displacy-tag\" dy=\"2em\" fill=\"currentColor\" x=\"50\">PROPN</tspan>\n",
       "</text>\n",
       "\n",
       "<text class=\"displacy-token\" fill=\"currentColor\" text-anchor=\"middle\" y=\"147.0\">\n",
       "    <tspan class=\"displacy-word\" fill=\"currentColor\" x=\"100\">is</tspan>\n",
       "    <tspan class=\"displacy-tag\" dy=\"2em\" fill=\"currentColor\" x=\"100\">AUX</tspan>\n",
       "</text>\n",
       "\n",
       "<text class=\"displacy-token\" fill=\"currentColor\" text-anchor=\"middle\" y=\"147.0\">\n",
       "    <tspan class=\"displacy-word\" fill=\"currentColor\" x=\"150\">going</tspan>\n",
       "    <tspan class=\"displacy-tag\" dy=\"2em\" fill=\"currentColor\" x=\"150\">VERB</tspan>\n",
       "</text>\n",
       "\n",
       "<text class=\"displacy-token\" fill=\"currentColor\" text-anchor=\"middle\" y=\"147.0\">\n",
       "    <tspan class=\"displacy-word\" fill=\"currentColor\" x=\"200\">to</tspan>\n",
       "    <tspan class=\"displacy-tag\" dy=\"2em\" fill=\"currentColor\" x=\"200\">PART</tspan>\n",
       "</text>\n",
       "\n",
       "<text class=\"displacy-token\" fill=\"currentColor\" text-anchor=\"middle\" y=\"147.0\">\n",
       "    <tspan class=\"displacy-word\" fill=\"currentColor\" x=\"250\">biuld</tspan>\n",
       "    <tspan class=\"displacy-tag\" dy=\"2em\" fill=\"currentColor\" x=\"250\">VERB</tspan>\n",
       "</text>\n",
       "\n",
       "<text class=\"displacy-token\" fill=\"currentColor\" text-anchor=\"middle\" y=\"147.0\">\n",
       "    <tspan class=\"displacy-word\" fill=\"currentColor\" x=\"300\">a</tspan>\n",
       "    <tspan class=\"displacy-tag\" dy=\"2em\" fill=\"currentColor\" x=\"300\">DET</tspan>\n",
       "</text>\n",
       "\n",
       "<text class=\"displacy-token\" fill=\"currentColor\" text-anchor=\"middle\" y=\"147.0\">\n",
       "    <tspan class=\"displacy-word\" fill=\"currentColor\" x=\"350\">U.K.</tspan>\n",
       "    <tspan class=\"displacy-tag\" dy=\"2em\" fill=\"currentColor\" x=\"350\">PROPN</tspan>\n",
       "</text>\n",
       "\n",
       "<text class=\"displacy-token\" fill=\"currentColor\" text-anchor=\"middle\" y=\"147.0\">\n",
       "    <tspan class=\"displacy-word\" fill=\"currentColor\" x=\"400\">factory</tspan>\n",
       "    <tspan class=\"displacy-tag\" dy=\"2em\" fill=\"currentColor\" x=\"400\">NOUN</tspan>\n",
       "</text>\n",
       "\n",
       "<text class=\"displacy-token\" fill=\"currentColor\" text-anchor=\"middle\" y=\"147.0\">\n",
       "    <tspan class=\"displacy-word\" fill=\"currentColor\" x=\"450\">for</tspan>\n",
       "    <tspan class=\"displacy-tag\" dy=\"2em\" fill=\"currentColor\" x=\"450\">ADP</tspan>\n",
       "</text>\n",
       "\n",
       "<text class=\"displacy-token\" fill=\"currentColor\" text-anchor=\"middle\" y=\"147.0\">\n",
       "    <tspan class=\"displacy-word\" fill=\"currentColor\" x=\"500\">$</tspan>\n",
       "    <tspan class=\"displacy-tag\" dy=\"2em\" fill=\"currentColor\" x=\"500\">SYM</tspan>\n",
       "</text>\n",
       "\n",
       "<text class=\"displacy-token\" fill=\"currentColor\" text-anchor=\"middle\" y=\"147.0\">\n",
       "    <tspan class=\"displacy-word\" fill=\"currentColor\" x=\"550\">6</tspan>\n",
       "    <tspan class=\"displacy-tag\" dy=\"2em\" fill=\"currentColor\" x=\"550\">NUM</tspan>\n",
       "</text>\n",
       "\n",
       "<text class=\"displacy-token\" fill=\"currentColor\" text-anchor=\"middle\" y=\"147.0\">\n",
       "    <tspan class=\"displacy-word\" fill=\"currentColor\" x=\"600\">million.</tspan>\n",
       "    <tspan class=\"displacy-tag\" dy=\"2em\" fill=\"currentColor\" x=\"600\">NUM</tspan>\n",
       "</text>\n",
       "\n",
       "<g class=\"displacy-arrow\">\n",
       "    <path class=\"displacy-arc\" id=\"arrow-606b58a153b74879b7e2e9433029ad2f-0-0\" stroke-width=\"2px\" d=\"M70,102.0 C70,52.0 140.0,52.0 140.0,102.0\" fill=\"none\" stroke=\"currentColor\"/>\n",
       "    <text dy=\"1.25em\" style=\"font-size: 0.8em; letter-spacing: 1px\">\n",
       "        <textPath xlink:href=\"#arrow-606b58a153b74879b7e2e9433029ad2f-0-0\" class=\"displacy-label\" startOffset=\"50%\" side=\"left\" fill=\"currentColor\" text-anchor=\"middle\">nsubj</textPath>\n",
       "    </text>\n",
       "    <path class=\"displacy-arrowhead\" d=\"M70,104.0 L62,92.0 78,92.0\" fill=\"currentColor\"/>\n",
       "</g>\n",
       "\n",
       "<g class=\"displacy-arrow\">\n",
       "    <path class=\"displacy-arc\" id=\"arrow-606b58a153b74879b7e2e9433029ad2f-0-1\" stroke-width=\"2px\" d=\"M120,102.0 C120,77.0 135.0,77.0 135.0,102.0\" fill=\"none\" stroke=\"currentColor\"/>\n",
       "    <text dy=\"1.25em\" style=\"font-size: 0.8em; letter-spacing: 1px\">\n",
       "        <textPath xlink:href=\"#arrow-606b58a153b74879b7e2e9433029ad2f-0-1\" class=\"displacy-label\" startOffset=\"50%\" side=\"left\" fill=\"currentColor\" text-anchor=\"middle\">aux</textPath>\n",
       "    </text>\n",
       "    <path class=\"displacy-arrowhead\" d=\"M120,104.0 L112,92.0 128,92.0\" fill=\"currentColor\"/>\n",
       "</g>\n",
       "\n",
       "<g class=\"displacy-arrow\">\n",
       "    <path class=\"displacy-arc\" id=\"arrow-606b58a153b74879b7e2e9433029ad2f-0-2\" stroke-width=\"2px\" d=\"M220,102.0 C220,77.0 235.0,77.0 235.0,102.0\" fill=\"none\" stroke=\"currentColor\"/>\n",
       "    <text dy=\"1.25em\" style=\"font-size: 0.8em; letter-spacing: 1px\">\n",
       "        <textPath xlink:href=\"#arrow-606b58a153b74879b7e2e9433029ad2f-0-2\" class=\"displacy-label\" startOffset=\"50%\" side=\"left\" fill=\"currentColor\" text-anchor=\"middle\">aux</textPath>\n",
       "    </text>\n",
       "    <path class=\"displacy-arrowhead\" d=\"M220,104.0 L212,92.0 228,92.0\" fill=\"currentColor\"/>\n",
       "</g>\n",
       "\n",
       "<g class=\"displacy-arrow\">\n",
       "    <path class=\"displacy-arc\" id=\"arrow-606b58a153b74879b7e2e9433029ad2f-0-3\" stroke-width=\"2px\" d=\"M170,102.0 C170,52.0 240.0,52.0 240.0,102.0\" fill=\"none\" stroke=\"currentColor\"/>\n",
       "    <text dy=\"1.25em\" style=\"font-size: 0.8em; letter-spacing: 1px\">\n",
       "        <textPath xlink:href=\"#arrow-606b58a153b74879b7e2e9433029ad2f-0-3\" class=\"displacy-label\" startOffset=\"50%\" side=\"left\" fill=\"currentColor\" text-anchor=\"middle\">xcomp</textPath>\n",
       "    </text>\n",
       "    <path class=\"displacy-arrowhead\" d=\"M240.0,104.0 L248.0,92.0 232.0,92.0\" fill=\"currentColor\"/>\n",
       "</g>\n",
       "\n",
       "<g class=\"displacy-arrow\">\n",
       "    <path class=\"displacy-arc\" id=\"arrow-606b58a153b74879b7e2e9433029ad2f-0-4\" stroke-width=\"2px\" d=\"M320,102.0 C320,52.0 390.0,52.0 390.0,102.0\" fill=\"none\" stroke=\"currentColor\"/>\n",
       "    <text dy=\"1.25em\" style=\"font-size: 0.8em; letter-spacing: 1px\">\n",
       "        <textPath xlink:href=\"#arrow-606b58a153b74879b7e2e9433029ad2f-0-4\" class=\"displacy-label\" startOffset=\"50%\" side=\"left\" fill=\"currentColor\" text-anchor=\"middle\">det</textPath>\n",
       "    </text>\n",
       "    <path class=\"displacy-arrowhead\" d=\"M320,104.0 L312,92.0 328,92.0\" fill=\"currentColor\"/>\n",
       "</g>\n",
       "\n",
       "<g class=\"displacy-arrow\">\n",
       "    <path class=\"displacy-arc\" id=\"arrow-606b58a153b74879b7e2e9433029ad2f-0-5\" stroke-width=\"2px\" d=\"M370,102.0 C370,77.0 385.0,77.0 385.0,102.0\" fill=\"none\" stroke=\"currentColor\"/>\n",
       "    <text dy=\"1.25em\" style=\"font-size: 0.8em; letter-spacing: 1px\">\n",
       "        <textPath xlink:href=\"#arrow-606b58a153b74879b7e2e9433029ad2f-0-5\" class=\"displacy-label\" startOffset=\"50%\" side=\"left\" fill=\"currentColor\" text-anchor=\"middle\">compound</textPath>\n",
       "    </text>\n",
       "    <path class=\"displacy-arrowhead\" d=\"M370,104.0 L362,92.0 378,92.0\" fill=\"currentColor\"/>\n",
       "</g>\n",
       "\n",
       "<g class=\"displacy-arrow\">\n",
       "    <path class=\"displacy-arc\" id=\"arrow-606b58a153b74879b7e2e9433029ad2f-0-6\" stroke-width=\"2px\" d=\"M270,102.0 C270,27.0 395.0,27.0 395.0,102.0\" fill=\"none\" stroke=\"currentColor\"/>\n",
       "    <text dy=\"1.25em\" style=\"font-size: 0.8em; letter-spacing: 1px\">\n",
       "        <textPath xlink:href=\"#arrow-606b58a153b74879b7e2e9433029ad2f-0-6\" class=\"displacy-label\" startOffset=\"50%\" side=\"left\" fill=\"currentColor\" text-anchor=\"middle\">dobj</textPath>\n",
       "    </text>\n",
       "    <path class=\"displacy-arrowhead\" d=\"M395.0,104.0 L403.0,92.0 387.0,92.0\" fill=\"currentColor\"/>\n",
       "</g>\n",
       "\n",
       "<g class=\"displacy-arrow\">\n",
       "    <path class=\"displacy-arc\" id=\"arrow-606b58a153b74879b7e2e9433029ad2f-0-7\" stroke-width=\"2px\" d=\"M270,102.0 C270,2.0 450.0,2.0 450.0,102.0\" fill=\"none\" stroke=\"currentColor\"/>\n",
       "    <text dy=\"1.25em\" style=\"font-size: 0.8em; letter-spacing: 1px\">\n",
       "        <textPath xlink:href=\"#arrow-606b58a153b74879b7e2e9433029ad2f-0-7\" class=\"displacy-label\" startOffset=\"50%\" side=\"left\" fill=\"currentColor\" text-anchor=\"middle\">prep</textPath>\n",
       "    </text>\n",
       "    <path class=\"displacy-arrowhead\" d=\"M450.0,104.0 L458.0,92.0 442.0,92.0\" fill=\"currentColor\"/>\n",
       "</g>\n",
       "\n",
       "<g class=\"displacy-arrow\">\n",
       "    <path class=\"displacy-arc\" id=\"arrow-606b58a153b74879b7e2e9433029ad2f-0-8\" stroke-width=\"2px\" d=\"M520,102.0 C520,52.0 590.0,52.0 590.0,102.0\" fill=\"none\" stroke=\"currentColor\"/>\n",
       "    <text dy=\"1.25em\" style=\"font-size: 0.8em; letter-spacing: 1px\">\n",
       "        <textPath xlink:href=\"#arrow-606b58a153b74879b7e2e9433029ad2f-0-8\" class=\"displacy-label\" startOffset=\"50%\" side=\"left\" fill=\"currentColor\" text-anchor=\"middle\">quantmod</textPath>\n",
       "    </text>\n",
       "    <path class=\"displacy-arrowhead\" d=\"M520,104.0 L512,92.0 528,92.0\" fill=\"currentColor\"/>\n",
       "</g>\n",
       "\n",
       "<g class=\"displacy-arrow\">\n",
       "    <path class=\"displacy-arc\" id=\"arrow-606b58a153b74879b7e2e9433029ad2f-0-9\" stroke-width=\"2px\" d=\"M570,102.0 C570,77.0 585.0,77.0 585.0,102.0\" fill=\"none\" stroke=\"currentColor\"/>\n",
       "    <text dy=\"1.25em\" style=\"font-size: 0.8em; letter-spacing: 1px\">\n",
       "        <textPath xlink:href=\"#arrow-606b58a153b74879b7e2e9433029ad2f-0-9\" class=\"displacy-label\" startOffset=\"50%\" side=\"left\" fill=\"currentColor\" text-anchor=\"middle\">compound</textPath>\n",
       "    </text>\n",
       "    <path class=\"displacy-arrowhead\" d=\"M570,104.0 L562,92.0 578,92.0\" fill=\"currentColor\"/>\n",
       "</g>\n",
       "\n",
       "<g class=\"displacy-arrow\">\n",
       "    <path class=\"displacy-arc\" id=\"arrow-606b58a153b74879b7e2e9433029ad2f-0-10\" stroke-width=\"2px\" d=\"M470,102.0 C470,27.0 595.0,27.0 595.0,102.0\" fill=\"none\" stroke=\"currentColor\"/>\n",
       "    <text dy=\"1.25em\" style=\"font-size: 0.8em; letter-spacing: 1px\">\n",
       "        <textPath xlink:href=\"#arrow-606b58a153b74879b7e2e9433029ad2f-0-10\" class=\"displacy-label\" startOffset=\"50%\" side=\"left\" fill=\"currentColor\" text-anchor=\"middle\">pobj</textPath>\n",
       "    </text>\n",
       "    <path class=\"displacy-arrowhead\" d=\"M595.0,104.0 L603.0,92.0 587.0,92.0\" fill=\"currentColor\"/>\n",
       "</g>\n",
       "</svg></span>"
      ],
      "text/plain": [
       "<IPython.core.display.HTML object>"
      ]
     },
     "metadata": {},
     "output_type": "display_data"
    }
   ],
   "source": [
    "displacy.render(doc, style = 'dep', jupyter = True, options= {'distance':50})"
   ]
  },
  {
   "cell_type": "markdown",
   "id": "8ef63f7b",
   "metadata": {},
   "source": [
    "### We can even Visualize the entity recognizer"
   ]
  },
  {
   "cell_type": "code",
   "execution_count": 7,
   "id": "9725d0b8",
   "metadata": {},
   "outputs": [],
   "source": [
    "doc1 = nlp(u\"Over the last quater Apple sold nearly 20 thousand ipod for a profit of $6 million.\")"
   ]
  },
  {
   "cell_type": "code",
   "execution_count": 8,
   "id": "cf07d555",
   "metadata": {},
   "outputs": [
    {
     "data": {
      "text/html": [
       "<span class=\"tex2jax_ignore\"><div class=\"entities\" style=\"line-height: 2.5; direction: ltr\">Over \n",
       "<mark class=\"entity\" style=\"background: #bfe1d9; padding: 0.45em 0.6em; margin: 0 0.25em; line-height: 1; border-radius: 0.35em;\">\n",
       "    the last quater\n",
       "    <span style=\"font-size: 0.8em; font-weight: bold; line-height: 1; border-radius: 0.35em; vertical-align: middle; margin-left: 0.5rem\">DATE</span>\n",
       "</mark>\n",
       " \n",
       "<mark class=\"entity\" style=\"background: #7aecec; padding: 0.45em 0.6em; margin: 0 0.25em; line-height: 1; border-radius: 0.35em;\">\n",
       "    Apple\n",
       "    <span style=\"font-size: 0.8em; font-weight: bold; line-height: 1; border-radius: 0.35em; vertical-align: middle; margin-left: 0.5rem\">ORG</span>\n",
       "</mark>\n",
       " sold \n",
       "<mark class=\"entity\" style=\"background: #e4e7d2; padding: 0.45em 0.6em; margin: 0 0.25em; line-height: 1; border-radius: 0.35em;\">\n",
       "    nearly 20 thousand\n",
       "    <span style=\"font-size: 0.8em; font-weight: bold; line-height: 1; border-radius: 0.35em; vertical-align: middle; margin-left: 0.5rem\">CARDINAL</span>\n",
       "</mark>\n",
       " ipod for a profit of \n",
       "<mark class=\"entity\" style=\"background: #e4e7d2; padding: 0.45em 0.6em; margin: 0 0.25em; line-height: 1; border-radius: 0.35em;\">\n",
       "    $6 million\n",
       "    <span style=\"font-size: 0.8em; font-weight: bold; line-height: 1; border-radius: 0.35em; vertical-align: middle; margin-left: 0.5rem\">MONEY</span>\n",
       "</mark>\n",
       ".</div></span>"
      ],
      "text/plain": [
       "<IPython.core.display.HTML object>"
      ]
     },
     "metadata": {},
     "output_type": "display_data"
    }
   ],
   "source": [
    "displacy.render(doc1, style = 'ent', jupyter=True)"
   ]
  },
  {
   "cell_type": "markdown",
   "id": "76f21946",
   "metadata": {},
   "source": [
    "### if we are running dispalcy outside of jupyter notebook"
   ]
  },
  {
   "cell_type": "code",
   "execution_count": 9,
   "id": "b898300a",
   "metadata": {},
   "outputs": [],
   "source": [
    "doc = nlp(u\"This is a sentence.\")"
   ]
  },
  {
   "cell_type": "code",
   "execution_count": null,
   "id": "adf4da60",
   "metadata": {},
   "outputs": [
    {
     "name": "stderr",
     "output_type": "stream",
     "text": [
      "C:\\Users\\rose_\\anaconda3\\lib\\site-packages\\spacy\\displacy\\__init__.py:103: UserWarning: [W011] It looks like you're calling displacy.serve from within a Jupyter notebook or a similar environment. This likely means you're already running a local web server, so there's no need to make displaCy start another one. Instead, you should be able to replace displacy.serve with displacy.render to show the visualization.\n",
      "  warnings.warn(Warnings.W011)\n"
     ]
    },
    {
     "data": {
      "text/html": [
       "<span class=\"tex2jax_ignore\"><!DOCTYPE html>\n",
       "<html lang=\"en\">\n",
       "    <head>\n",
       "        <title>displaCy</title>\n",
       "    </head>\n",
       "\n",
       "    <body style=\"font-size: 16px; font-family: -apple-system, BlinkMacSystemFont, 'Segoe UI', Helvetica, Arial, sans-serif, 'Apple Color Emoji', 'Segoe UI Emoji', 'Segoe UI Symbol'; padding: 4rem 2rem; direction: ltr\">\n",
       "<figure style=\"margin-bottom: 6rem\">\n",
       "<svg xmlns=\"http://www.w3.org/2000/svg\" xmlns:xlink=\"http://www.w3.org/1999/xlink\" xml:lang=\"en\" id=\"ee698c510eab44d2a0bdb49d4ba9a4f2-0\" class=\"displacy\" width=\"750\" height=\"312.0\" direction=\"ltr\" style=\"max-width: none; height: 312.0px; color: #000000; background: #ffffff; font-family: Arial; direction: ltr\">\n",
       "<text class=\"displacy-token\" fill=\"currentColor\" text-anchor=\"middle\" y=\"222.0\">\n",
       "    <tspan class=\"displacy-word\" fill=\"currentColor\" x=\"50\">This</tspan>\n",
       "    <tspan class=\"displacy-tag\" dy=\"2em\" fill=\"currentColor\" x=\"50\">PRON</tspan>\n",
       "</text>\n",
       "\n",
       "<text class=\"displacy-token\" fill=\"currentColor\" text-anchor=\"middle\" y=\"222.0\">\n",
       "    <tspan class=\"displacy-word\" fill=\"currentColor\" x=\"225\">is</tspan>\n",
       "    <tspan class=\"displacy-tag\" dy=\"2em\" fill=\"currentColor\" x=\"225\">AUX</tspan>\n",
       "</text>\n",
       "\n",
       "<text class=\"displacy-token\" fill=\"currentColor\" text-anchor=\"middle\" y=\"222.0\">\n",
       "    <tspan class=\"displacy-word\" fill=\"currentColor\" x=\"400\">a</tspan>\n",
       "    <tspan class=\"displacy-tag\" dy=\"2em\" fill=\"currentColor\" x=\"400\">DET</tspan>\n",
       "</text>\n",
       "\n",
       "<text class=\"displacy-token\" fill=\"currentColor\" text-anchor=\"middle\" y=\"222.0\">\n",
       "    <tspan class=\"displacy-word\" fill=\"currentColor\" x=\"575\">sentence.</tspan>\n",
       "    <tspan class=\"displacy-tag\" dy=\"2em\" fill=\"currentColor\" x=\"575\">NOUN</tspan>\n",
       "</text>\n",
       "\n",
       "<g class=\"displacy-arrow\">\n",
       "    <path class=\"displacy-arc\" id=\"arrow-ee698c510eab44d2a0bdb49d4ba9a4f2-0-0\" stroke-width=\"2px\" d=\"M70,177.0 C70,89.5 220.0,89.5 220.0,177.0\" fill=\"none\" stroke=\"currentColor\"/>\n",
       "    <text dy=\"1.25em\" style=\"font-size: 0.8em; letter-spacing: 1px\">\n",
       "        <textPath xlink:href=\"#arrow-ee698c510eab44d2a0bdb49d4ba9a4f2-0-0\" class=\"displacy-label\" startOffset=\"50%\" side=\"left\" fill=\"currentColor\" text-anchor=\"middle\">nsubj</textPath>\n",
       "    </text>\n",
       "    <path class=\"displacy-arrowhead\" d=\"M70,179.0 L62,167.0 78,167.0\" fill=\"currentColor\"/>\n",
       "</g>\n",
       "\n",
       "<g class=\"displacy-arrow\">\n",
       "    <path class=\"displacy-arc\" id=\"arrow-ee698c510eab44d2a0bdb49d4ba9a4f2-0-1\" stroke-width=\"2px\" d=\"M420,177.0 C420,89.5 570.0,89.5 570.0,177.0\" fill=\"none\" stroke=\"currentColor\"/>\n",
       "    <text dy=\"1.25em\" style=\"font-size: 0.8em; letter-spacing: 1px\">\n",
       "        <textPath xlink:href=\"#arrow-ee698c510eab44d2a0bdb49d4ba9a4f2-0-1\" class=\"displacy-label\" startOffset=\"50%\" side=\"left\" fill=\"currentColor\" text-anchor=\"middle\">det</textPath>\n",
       "    </text>\n",
       "    <path class=\"displacy-arrowhead\" d=\"M420,179.0 L412,167.0 428,167.0\" fill=\"currentColor\"/>\n",
       "</g>\n",
       "\n",
       "<g class=\"displacy-arrow\">\n",
       "    <path class=\"displacy-arc\" id=\"arrow-ee698c510eab44d2a0bdb49d4ba9a4f2-0-2\" stroke-width=\"2px\" d=\"M245,177.0 C245,2.0 575.0,2.0 575.0,177.0\" fill=\"none\" stroke=\"currentColor\"/>\n",
       "    <text dy=\"1.25em\" style=\"font-size: 0.8em; letter-spacing: 1px\">\n",
       "        <textPath xlink:href=\"#arrow-ee698c510eab44d2a0bdb49d4ba9a4f2-0-2\" class=\"displacy-label\" startOffset=\"50%\" side=\"left\" fill=\"currentColor\" text-anchor=\"middle\">attr</textPath>\n",
       "    </text>\n",
       "    <path class=\"displacy-arrowhead\" d=\"M575.0,179.0 L583.0,167.0 567.0,167.0\" fill=\"currentColor\"/>\n",
       "</g>\n",
       "</svg>\n",
       "</figure>\n",
       "</body>\n",
       "</html></span>"
      ],
      "text/plain": [
       "<IPython.core.display.HTML object>"
      ]
     },
     "metadata": {},
     "output_type": "display_data"
    },
    {
     "name": "stdout",
     "output_type": "stream",
     "text": [
      "\n",
      "Using the 'dep' visualizer\n",
      "Serving on http://0.0.0.0:5000 ...\n",
      "\n"
     ]
    }
   ],
   "source": [
    "displacy.serve(doc, style = 'dep')"
   ]
  },
  {
   "cell_type": "markdown",
   "id": "4c856637",
   "metadata": {},
   "source": [
    "#### The options distionary `options= {'distance':50}` we used above is basically bunch of styling calls we can make and we can check the further documentation @ https://spacy.io/usage/visualizers "
   ]
  },
  {
   "cell_type": "markdown",
   "id": "a459dab0",
   "metadata": {},
   "source": [
    "# <span style = \"color:#68026e;font-family:calibri\"> Stemming"
   ]
  },
  {
   "cell_type": "markdown",
   "id": "777d2f31",
   "metadata": {},
   "source": [
    "* Often when searching text for a certain keyword, it helps if the search retruns variations of the word.\n",
    "* For instance, searching for \"boat\" might also retrun \"boats\" and \"boating\". Here, \"boat\" would be the stem for [boat, boater, boating, boats]."
   ]
  },
  {
   "cell_type": "markdown",
   "id": "63c581d2",
   "metadata": {},
   "source": [
    "#### <span style = \"color:#68026e;font-family:calibri\">`Stemming` is somewhat crude method for cataloging related words; it essentially chops off letters from the end until the stem is reached.</span>\n",
    "#### <span style = \"color:#68026e;font-family:calibri\"> This works fairly well in most cases, but unfortunately English has many exceptions here a more sophisticated proces is reuqired.</span>\n",
    "#### <span style = \"color:#68026e;font-family:calibri\"> In fact, `Spacy` doesn't include a stemmer, opting instead to rely on lemmatization.</span>"
   ]
  },
  {
   "cell_type": "markdown",
   "id": "b9677de1",
   "metadata": {},
   "source": [
    "### Because of stemming is no included in Spacy, we will moveo over to using NLTK and learn about various `Stemmers`\n",
    "### There is `Porter` Stemmer and the `Snowball` Stemmmer"
   ]
  },
  {
   "cell_type": "markdown",
   "id": "f4b222ca",
   "metadata": {},
   "source": [
    "#### One off the most common and effective stemming tools is `Porter's Algorithm` developed by Martin Porter in 1980\n",
    "* The algorithm employs five phases of word reduction, each with its own set of  mapping rules."
   ]
  },
  {
   "cell_type": "markdown",
   "id": "4722b11c",
   "metadata": {},
   "source": [
    "#### In the  first phase, simple suffix mapping rules are deined, such as :\n",
    "\n",
    "<img src=\"data:image/png;base64,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\" />"
   ]
  },
  {
   "cell_type": "markdown",
   "id": "917b912f",
   "metadata": {},
   "source": [
    "#### From a given set of stemming rules only one rule is applied, based on the longest Suffix S1. Thus, caresses redues to caress but not cares"
   ]
  },
  {
   "cell_type": "markdown",
   "id": "a413ff62",
   "metadata": {},
   "source": [
    "#### There are more sophisticated/complexity of the word before appying a rule. \n",
    "\n",
    "<img src=\"data:image/png;base64,iVBORw0KGgoAAAANSUhEUgAAAdYAAABrCAMAAAD951N3AAAAgVBMVEX////n5ubo5+ft7OzNzMzj4uLX1tZvb2+Dg4OSkpJ7enoAAADu7e1WVlaWlpa9vLympqZNTExmZmZxcXHe3d3My8vGxcVbW1tlZWX09PTU09NRUVGfn5+trKy5ubmFhYU9PT1HR0c0NDQmJiYtLS0VFRVBQUEgICA3NzcLCwsVFBRQ5ZdKAAATsElEQVR4nO1diXqzKhBVEBfEJYoLrkmbpu19/we8M5ik2UzSpNvfer5+jVWEA4cZRrDEMCZMmDBhwoQJEyZMmDBhwoQJEyZMmDDhPHr396D/TZW5DvGIrHNp/xbIvv1uCl8NORuRdSbIbwENI/rdHL4YIhiV1RwwpMMPSs2fhg05KoSgZCQRyDp2aS+ZENck+3BgBT4aF2UlLIoiKyMsj4pXcT6zLwfJusiKJGGe7/stG2meK2XlkMU3dFwioQIfneklWYkNtfWXhWn95/sPP0xW2jwDt/8i0ft9W46KspVV2wXZ+W2u/ZA+ypyvlXVwNCbt/JhuyJCNA7rTgi/K2voNy/zCNCXjjz9NVj+oZOlHgieMCr8fS7aWlVW2zUy7qsCsbRt/M7uyiV1Jgidk+KWyQrkQ2xACxXpAAQYSjHWACJ5GTvdkflHWxs+Valo4Eu4Pk5Uwn1NleTYMrYTmfnjeCZMI/I4lH8DXmi4cphbc4//X/OcXNnpgf/X6hbLSGDyN/yxp4CMKZnb42SM/xNK6R9eLsmaPT0FdYTBBf5qspkj8WR3qQEdEfn1hbCUsfW05zx4Twn0v6/xaMqsAeZvXDLx4FvpfKavwk8xKnytSeVB2bpHO9yyr8Rt7/ty+LrvRTnpd7pdCJqF4mfj9j5SVqKhMnp/AX4nWn6lLkTCNn8rn1/S5Eb5HCdwSUeH4sQKLX6aKqP4rnTCU7Ad5RU0Kwxw8TLJksNKFWnHDd4nvfaq1eq0QqvBh+AEnrD4hFr8dJOqlUtCvKTRNyUa5bWQl1uMr+L2njKCs4IFB1uSpgnglW3JFhPeVshLats3jQ0VojLIKkvhd27ZdpFap8rn5qbIS8uh3tu0/M2bb/FHeOZJ/LKjnpxVE6g044wCjjLF0m0hYLPxF4i+FCPzYzl+XNrPLp8iuTJr4rd09QHT4VdUj+bKRsvc7gt7Xjh68znek7OalOU+In9owyt7B5aK1PuKQ/pBjdIFoftCUBA39GVDyYJzScMzTDfEmK3SByE8EkeAB/ToHP6whiY0ucOmD4X8Rd6IDJN8DH8NSDJk6osmsvLnvl1AXGPPv4HI5ZJJZDkMAwQ/AT7JWYmc2UIJnPE0tt0bSvT232jljeQWPqgxqI6FSw40YTsFHlef2l1kr0yXrB1U8BDICT9jE0kTw5xOtdTM99zFPyR+MLaPz3N5mmfZv2L3vy6u3U9w+qbeJ3TtyPyPr+yaXfzDENNW/xaqyfguqPv5uCl+NakzWZej9FoQF/z2VuQ5hPSJrMXL+X0RrfzeDL8eYtY6d/xcRV9/N4MtxlayNOJkmTEP8sPOPpXQCPc/uuHtcVsl5OHata8/nKjzunW6XfVzLvUr52BtI78c1srbpzh+Cbo682Igb+KQ12bvVTOvlEqUuZ8VyFixsIw/qZTCThqHaRQ1t0S6emNEsHrji9fIxgqThbFn3apSlKHzr+GxVzB5ryNV4CoJlPQtU8zIvguKZHaQ7Y63KOmiAeCtm2I/etb6XlIclncJp7qfyy8v9E0101X2ncIWsamHuXMj6ZjioHLjE8ZJ32Mto0njwUSgjsY0SG1UMjB1ImdfKYE8uyO9i5mXs6kKScVHxsuN3J07nvMf+U+PttFRDN0vlQapzTtg+CCLa5hyNQ1LXyDrG/RiWs/93c7v1XiFrvgINF3Fd0GIBf6om0e0WI9cQD/Png5vjRtVg1CU1ksrg2KikRNU6zdtrDLtJGHhAPOUZCzR2VV5waCfbhlcZZhIoVVKSKqNpjN4ghx1kKyuf5SQoQIsoCBbDqbWsYR0E6E2ch4ciSDBFHQwCKx7MoOvIRRPXWsYGkg4x2JWynuZeziwZJGAV7ZbLWlYPCoDWE8nypQgcOFKBpvAeXCFrg94of2Xdk+ywEQ0RdGQta4MVpC8H1QO/6wyOJ1m36CBrr5tDpYYdy9JgmFldGSlSHpWV5hnCyhf+0WBHCkVmWkSQFT/i1FrRw1Q71hqVXJAYBgW4ydFD3lpWkFS8YE5v1prrupoLyI832Hcjg2FhqP5CF3JR1nPcjdZxleyMrkD2umHWsjJsUTxohpvUAtoy9s4XdYArZO0xqoi4kaUwrA+n8qIbHJ6W1aj3+xJIZkQDjQNZtXSqBGs1ShtlZVCpvDfOyLqejtc4fFBBDbQX3srq5GdlHdzF4KaVHjt3nLCH/TTehlCDrMP4BvrhrSpZZz40+EVZz3E3hsHHcNBXMd1aO05Y1yocnHCrP5zjep3B1bK6O7JWTmsMsmonbAT7Y3s/L4r6SR/uy+rpdISjrJbDoF4exDjBk1rLWp0KPtcuVS4ejlpmPiuKhdZlLSs4YddQo07Y6IaGeqmh1JpjurWs0QpCrVOyDl6H20bnoqwEx6SgeLxO1nPcB29nGM/gcoPaxZRrWbsFFLAja4NtFATvekq7QtYQu9KOrMTT4truJmQS870gRdXI0dHn9mW1dBvyCGU1eNyvbZRbqAsksMZjBLF6PGoZqknOMIuNtaIo3WEIeyRr/5bVIKuWMNSjyqG14knlmGtZKbbC1dZ6hvtWVv6WxyCrpt/rx4OBbfSOKG6DK2TtcCYKnHDu6ILzhzWR3jJyXWL1tHfrEKcP/q5cx/ZmoTtuD64kTOAOuI/5/VrnqMTHAHFOVjY70d89LYH+fxNR6IcsLcoQAOxgR9ahhSSmNrW1DrOnbY8eE9s5Ay6NziDSv2kAte3bIVdVmvqze9VEVXIYc1/PfTtyVtgytrbWLNnUIX5FWaPUUB70Jo4p+Udbq5orw07ShvFYJnHz1nfSZBhAm73hXCYp9MDQSVuMUBxH83W4U2IbVGUJjZc7qaPAOsyEwzDXQNIm4U6SJGMPeNHr8vj5J3JST4k+hdgHbk8aHFpTyMQ5dOUbWWWapkmJVwlPEg79qAFiSQlNGMLvPEHP15aYQrkJpEVfQ7m+BWrVGnA/PG/D31kSQeWgUsnobMZ57tigqS7ZYFAOPLIrT3MBCl5SZp12c/GQAtgl5XXPvhtcMx3hnX8wV/WVcf7tyKN7ivjeycP7uN+IqyYP+dlnyjMj4s/ANCd88fy/iEnWi+f/RUyyXjz/L2KS9eL5fxGTrBfP/4u4StajBYIDKCnN8ylGwNiFnE/ccpkLOZ/ij8uab5vnvwtzOazhDzeVHvr1dbrm21nfEwsD+1xCvjif4o/LyreLFJesdViWuAX56/m15A3eJmPMi+nt8vz1vySrzE0r0sdWFKGeIi+8XB9V0cZuoyjC1beIVZG1TrpeyJC3tkn1ND+akbBzkmkuKhu40HwWRlGmS9zYbaev2Ie0MctJ1jdZi1WT8w7kbKMI16VA1j5ay+roSRWSRFGXCIOVkBRnm1UcRd4wOXqzrIac14fLanK2inMHiibABV9iGmRFLlZU6FUABlzaVEG5kDSFUxRpD2PFJOuOE+69nQbR8/RvTnh4wyREc8l6w8Ap9u1a7PAazftl3VlvXR3GOA4uzW9eEiswGnO2Tliv/A7rTLhuja/RWcn62vD+1CTrrqzQXAxrZodhs8CzfLtSrGXVC6oGgSQeRC0mLl1JTKpfpHi/rLKJNZq5zw/NFTsUvm9gWFgA9ptk+4Yi8jSog1O2bGYYboeeBv6oNrQnWY0DWbF98rSSpDgla4qymsUgK6txDbSS5rB8crsTbvzjhR4sGQOfjtuS1CdkFalYF+puaUPSQi/yTbLuyIrODTVLQSa7xvbBlVRLN9Sw/KlfZcLDsB2W6bVRDW8m3BoJq9A/sRiiM06GsaCaoWfFd7pyueG5ZoRr+7imzkBHp0Law4AwybqVtXt+kbTwQ5UFaRk/zCg2T1p4tiHK9GGOy8TKcxxc/cyfH2xV+p6yIWmzWjAjdgo/Ta57M3Qf7ql3JtvXOWWB3xhRkRbtMz7aVmUahBIETB8XTk8N1Tt6Pbd7emEEaecF0F7OhBE6AXA59xbxX5L1e5AuLkwufAYmWX8lJll/Jcbkm/4R8p/GmKxPqfNbkC6K31OZ65CO/dvyjLLfAhJ25ndz+GKQP7AlyLT7966sO5vNsNN70DC53nVsf68ZQjUIGQ6Iufm8GUSyE1tpHeR/7+7fx2Cn6/0+nOb+ybhGVlKtdnbZ2jYfzWsnwL2rumR/T7kobnEiVMpWf0Ym0yfu2MqKOn5xtG8dYZ0uoGP2UGA+dvdtshIW+vdsebUp/RT3z8Y1sgrH2zoxk8beeq9qO6hUnkpCZJ3t0c6Tsm27ec66F69t25VkzWPXxrN7dG18ftg2hEULFwp6sKU3j9u252M372+3tT1Y7/xNthtvba5s0qrgA2Q9yf2dXN6NK2Ql2VIQmdt5buY5BeNcZuhVQF9hEjdHpRd7O9KKsFeV8ixCipxICnWqForSPLh931pCW78+7BZEOK2oFJfUKpg0s2bk5t3N8Ybt/XBXPFvmFanyiuIpvUEdtj3FJHr3ZAvq+yGynuQOLnDDBUq0bb0rnk2QhOaiWxiSZLeNXVfISptCEKuclzUvFx2oWPGSUUK9lprUA1lJ/rzXG2noGTOGNl1kFSdwYKHuoripkfBLMwCqeywON1wUTqdmJm4cW9AmHv3ij62stPE810H/kvSek9QR7XgSlq5DBU88l9sExhvP4w0jIi683nm5cw/EM9ypBwWlYJB22XtJWeS0dbiXcE6J43iuC1yyueel8U0O/BonzHvczHhGu4B2pcAAKSobaKxwI6uc5/uyPgbP0CDEnK1WKdBay5p0NzCk7cNcY/XkFwetLJKXOoD2ItnLbDm+d+qbtTJoY6+hYOVUyGUjwDjxCzkq2qaggEyomXZK0KajecIojZb3yXqOu+bitpSWHXDBfcdp5kdgxLRxgUvFqXQiJYiXf66sqeoSFSV4GtxK0IBNrmU1RR3vtqm2VomhFVhr+matyS0MSZRyjXTpBwf71x9a66UvTCEkjlsHWq1WcHMP3ZJYYDDgzdMeQq52lbEFLnyD+aIrMu8dW89xJwwKLD1KcWgSHBqQ5C6OrqL0MP5bVFUNXFow3xtKfoesoksEykqEXTcVpQ2c1mMrYYtu31p7EdEImBY5s2iTUS2rqm8K9MnakcV+euiP0Opy0UY0K1glZTiyK+5292+Wem0HtdmV1dEjaoqxXRtJOYvxIP8YWc9wJ9IBLg7Kqray6phPlKHmwqq61Vw+yVppA1rSlg/Wqqj0ChzIgZgprFT7wMe9BhWhp4RoHUGLHCrldFSHTC2/I2QyG9897BVEObjjfB8KqzCFsIMRl/m2Vz9XgvW9oOnghCkRlYNfxkXyFDJQGTO9GKgzi+QlE7R7/Ijtk09yB6MALjwUNOmAut/ifsKcIpeOY2/IGHNhQBDypp51TSQcPShiBcu2g5+ntuXe8KVdNCr6FB9tYAjZE6xdLHq3LxzpPTt93z90LH3te+7c3kaE9L53pKpslgUUtGqq5NmFAh4uyErsou/TYt5SmfK+TENqh+nSdRvsiQ7kBDGTnbpunzY4zPScL/ldX1syzh3G0Lp3ebDoqO24fenE1PaSOXABK/HSHq7hluTAKY0/ywnTuqPSsipm2fBT2ZtyiJVVFH1b0u0VbQ+bn0LiYRNUZlq4i+0dPV+Ur/3xIxxb740rmc7fqkbu3nnAyTKsAoTCWSYh5NM5ZHgfgaOM6X3B4YR+urAsZt9D+iz3Ay59THVrYdHERFbmmsttQdtVs0zRjO1OOL5dGOYl8oPonew8YO8e3MJvQ1Oc6rOHM6EjNx/u/k30kweEoLvENgdHswR34zT3fS5BfpbL+8u8ak44OvfwROz7PdWn4njykHRFsRibvfhikLYoVu0Ht+BVsprn+8zP2sD/GCfnhD/GEj8GH0/lOln/bdy8gvPv4q/JSsYX8D7LfMcLPMPlnmVM88/JCs+QTXPadolsu49YXz0qPY6t0zETAy6nJxuIjLu7Cv1bshLGw25k3obI6OUzvryJtk+P9gldCUubrs1GuHSzu7j8LVmFVSv9Dejo/4Zr6wM8oVaf8p1c1Fo9nuhJIg/GuQhST7JewNvCXOgsXRdnuHPX5Th8idDlscCZUI/3bPHRsg6PorSaP0eH9kq9ZNm7uFoSARf8klLVu7zFBTIbuMhJ1kvYmWXqFpVlEWKtoioqLUK9sqo8F+xjFVdtfZ/jOwZhUoPlq8ejR+eqndlWRUi+yquoqAh108rqe0rYoq3i2dEC7bvwp2Q1aVbj6r7AlUxlc5InuL7S56JvBaH2RzthGr792/LT4SiKb4vgS0RlBlwyj0YJ+GSVVsLtBBHZZK2XsBMygazwIR5wa+bZTEZL+CyePaUXfz58bCVVpxF1K987zJtE+iUgittEF6uAtQ8FHPzXKHxBhkxj60Ucy+pkYChU0Jzju3eC0hRf0iIfHjKtx1az8FtxtIazlrXEr3sGLh0MsMhFJBlwmcbWiziIhKl+BVYIGUrTDcEDth2tZraS6eJTXvwktuOfmPPVkTBwaR0ihB0ylsbAJY5oXkhlJ8VdLxf/KVlpsljWswTbElxwEUHLubN6xm1Cu1m9iJb3xSmnQaraj44nsESAXDhyqWezMsdvXQYuriS0RS6Pd71c/KdkHd4EpJsD/cyIJ8jwegoVR57yI0p3eXeqLcUoF3o/l78l6/cUf+f87i0YlbVW9LdAhbn4bg5fDDUmq+/yX4NF8d0MvhyrEVl/078O0t9UmetwzTeQTpgwYcKECRMmTJgwYcKECRMmTJgwYcKEX4j/Aa7G+tYWiv7aAAAAAElFTkSuQmCC\" />"
   ]
  },
  {
   "cell_type": "markdown",
   "id": "079230f9",
   "metadata": {},
   "source": [
    "### `Snowball` is the name of stemming language also developed by Martin Porter\n",
    "* The algorith used here is more accurately calledthe `\"English Stemmer\"`or `\"Porter2 Stemmer\"`.\n",
    "* It offers a slight improvement over the original `Porter` Stemmer, both in logic and speed"
   ]
  },
  {
   "cell_type": "code",
   "execution_count": 1,
   "id": "4f94b212",
   "metadata": {},
   "outputs": [],
   "source": [
    "import nltk"
   ]
  },
  {
   "cell_type": "code",
   "execution_count": 2,
   "id": "701f8590",
   "metadata": {},
   "outputs": [],
   "source": [
    "from nltk.stem.porter import PorterStemmer"
   ]
  },
  {
   "cell_type": "code",
   "execution_count": 3,
   "id": "d9d9fddf",
   "metadata": {},
   "outputs": [],
   "source": [
    "p_stemmer = PorterStemmer()"
   ]
  },
  {
   "cell_type": "code",
   "execution_count": 9,
   "id": "89005e4d",
   "metadata": {},
   "outputs": [],
   "source": [
    "words = ['run','runner','ran','runs','easily','fairly', 'fairness']"
   ]
  },
  {
   "cell_type": "code",
   "execution_count": 10,
   "id": "40697e61",
   "metadata": {},
   "outputs": [
    {
     "name": "stdout",
     "output_type": "stream",
     "text": [
      "run--->run\n",
      "runner--->runner\n",
      "ran--->ran\n",
      "runs--->run\n",
      "easily--->easili\n",
      "fairly--->fairli\n",
      "fairness--->fair\n"
     ]
    }
   ],
   "source": [
    "for word in words:\n",
    "    print(word + '--->'+ p_stemmer.stem(word))"
   ]
  },
  {
   "cell_type": "code",
   "execution_count": 11,
   "id": "645c01aa",
   "metadata": {},
   "outputs": [],
   "source": [
    "from nltk.stem.snowball import SnowballStemmer"
   ]
  },
  {
   "cell_type": "code",
   "execution_count": 12,
   "id": "171187eb",
   "metadata": {},
   "outputs": [],
   "source": [
    "s_stemmmer = SnowballStemmer(language='english')"
   ]
  },
  {
   "cell_type": "code",
   "execution_count": 13,
   "id": "4976a013",
   "metadata": {},
   "outputs": [
    {
     "name": "stdout",
     "output_type": "stream",
     "text": [
      "run----->run\n",
      "runner----->runner\n",
      "ran----->ran\n",
      "runs----->run\n",
      "easily----->easili\n",
      "fairly----->fair\n",
      "fairness----->fair\n"
     ]
    }
   ],
   "source": [
    "for word in words:\n",
    "    print(word + '----->'+ s_stemmmer.stem(word))"
   ]
  },
  {
   "cell_type": "code",
   "execution_count": 14,
   "id": "cf8d9821",
   "metadata": {},
   "outputs": [],
   "source": [
    "words = [\"generous\", \"generation\",\"generously\",\"gnerate\"]"
   ]
  },
  {
   "cell_type": "code",
   "execution_count": 15,
   "id": "3d087abf",
   "metadata": {},
   "outputs": [
    {
     "name": "stdout",
     "output_type": "stream",
     "text": [
      "generous----->generous\n",
      "generation----->generat\n",
      "generously----->generous\n",
      "gnerate----->gnerat\n"
     ]
    }
   ],
   "source": [
    "for word in words:\n",
    "    print(word + '----->'+ s_stemmmer.stem(word))"
   ]
  },
  {
   "cell_type": "markdown",
   "id": "66d8c4af",
   "metadata": {},
   "source": [
    "#### Generally before analysis it is preffered to do stemming to reduce the word to it's root. Spacy though doesn't have steeming becasue it figures lemmatization is a much more effective way to reduce the words"
   ]
  },
  {
   "cell_type": "markdown",
   "id": "d27cd212",
   "metadata": {},
   "source": [
    "# <span style = \"color:#68026e;font-family:calibri\"> Lemmatization"
   ]
  },
  {
   "cell_type": "markdown",
   "id": "2d0716dc",
   "metadata": {},
   "source": [
    "* In contrast to stemming, lemmatization looks beyond word reduction, and considers a language's full vocubulary to apply a morphological(structured) analysis to words.\n",
    "* The Lemma of 'was' is 'be' and the lemma of 'mice' is 'mouse'. Further, the lemma of 'meeting' might be 'meet' or 'meeting' depending on its use in a sentence."
   ]
  },
  {
   "cell_type": "markdown",
   "id": "3c59b6ea",
   "metadata": {},
   "source": [
    "### <span style = \"color:#68026e;font-family:calibri\">`Lemmatization` is typically seen as much more informative than simple stemming, which is why spacy has opted to only have lemmatization avaiable instead of stemming."
   ]
  },
  {
   "cell_type": "markdown",
   "id": "e90bff85",
   "metadata": {},
   "source": [
    "* `Lemmaztization` looks at surrouding text to determine a given word's part of speech, it doesn't categorize phrases."
   ]
  },
  {
   "cell_type": "code",
   "execution_count": 17,
   "id": "c2960bab",
   "metadata": {},
   "outputs": [],
   "source": [
    "import spacy"
   ]
  },
  {
   "cell_type": "code",
   "execution_count": 18,
   "id": "bc28fca6",
   "metadata": {},
   "outputs": [],
   "source": [
    "nlp = spacy.load(\"en_core_web_sm\")"
   ]
  },
  {
   "cell_type": "code",
   "execution_count": 19,
   "id": "debb62da",
   "metadata": {},
   "outputs": [],
   "source": [
    "doc = nlp(u\"I am a runner running in a race because I love to run since I ran today\")"
   ]
  },
  {
   "cell_type": "code",
   "execution_count": 20,
   "id": "2e87c52b",
   "metadata": {},
   "outputs": [
    {
     "name": "stdout",
     "output_type": "stream",
     "text": [
      "I \t PRON \t 4690420944186131903 \t I\n",
      "am \t AUX \t 10382539506755952630 \t be\n",
      "a \t DET \t 11901859001352538922 \t a\n",
      "runner \t NOUN \t 12640964157389618806 \t runner\n",
      "running \t VERB \t 12767647472892411841 \t run\n",
      "in \t ADP \t 3002984154512732771 \t in\n",
      "a \t DET \t 11901859001352538922 \t a\n",
      "race \t NOUN \t 8048469955494714898 \t race\n",
      "because \t SCONJ \t 16950148841647037698 \t because\n",
      "I \t PRON \t 4690420944186131903 \t I\n",
      "love \t VERB \t 3702023516439754181 \t love\n",
      "to \t PART \t 3791531372978436496 \t to\n",
      "run \t VERB \t 12767647472892411841 \t run\n",
      "since \t SCONJ \t 10066841407251338481 \t since\n",
      "I \t PRON \t 4690420944186131903 \t I\n",
      "ran \t VERB \t 12767647472892411841 \t run\n",
      "today \t NOUN \t 11042482332948150395 \t today\n"
     ]
    }
   ],
   "source": [
    "for token in doc:\n",
    "    print(token.text, '\\t', token.pos_,'\\t',token.lemma,'\\t',  token.lemma_)"
   ]
  },
  {
   "cell_type": "code",
   "execution_count": 26,
   "id": "da4ba432",
   "metadata": {},
   "outputs": [],
   "source": [
    "def show_lemmas(text):\n",
    "    for token in text:\n",
    "        print(f'{token.text:{12}} {token.pos_:{6}} {token.lemma:<{22}} {token.lemma_}')"
   ]
  },
  {
   "cell_type": "code",
   "execution_count": 27,
   "id": "c2058e4b",
   "metadata": {},
   "outputs": [
    {
     "name": "stdout",
     "output_type": "stream",
     "text": [
      "I            PRON   4690420944186131903    I\n",
      "am           AUX    10382539506755952630   be\n",
      "a            DET    11901859001352538922   a\n",
      "runner       NOUN   12640964157389618806   runner\n",
      "running      VERB   12767647472892411841   run\n",
      "in           ADP    3002984154512732771    in\n",
      "a            DET    11901859001352538922   a\n",
      "race         NOUN   8048469955494714898    race\n",
      "because      SCONJ  16950148841647037698   because\n",
      "I            PRON   4690420944186131903    I\n",
      "love         VERB   3702023516439754181    love\n",
      "to           PART   3791531372978436496    to\n",
      "run          VERB   12767647472892411841   run\n",
      "since        SCONJ  10066841407251338481   since\n",
      "I            PRON   4690420944186131903    I\n",
      "ran          VERB   12767647472892411841   run\n",
      "today        NOUN   11042482332948150395   today\n"
     ]
    }
   ],
   "source": [
    "show_lemmas(doc)"
   ]
  },
  {
   "cell_type": "code",
   "execution_count": 28,
   "id": "b00cb2a5",
   "metadata": {},
   "outputs": [],
   "source": [
    "doc2 = nlp(u\"I saw ten mice today!\")"
   ]
  },
  {
   "cell_type": "code",
   "execution_count": 29,
   "id": "eb54cbf3",
   "metadata": {},
   "outputs": [
    {
     "name": "stdout",
     "output_type": "stream",
     "text": [
      "I            PRON   4690420944186131903    I\n",
      "saw          VERB   11925638236994514241   see\n",
      "ten          NUM    7970704286052693043    ten\n",
      "mice         NOUN   1384165645700560590    mouse\n",
      "today        NOUN   11042482332948150395   today\n",
      "!            PUNCT  17494803046312582752   !\n"
     ]
    }
   ],
   "source": [
    "show_lemmas(doc2)"
   ]
  },
  {
   "cell_type": "markdown",
   "id": "e81c9102",
   "metadata": {},
   "source": [
    "# <span style = \"color:#68026e;font-family:calibri\"> Stop Words"
   ]
  },
  {
   "cell_type": "markdown",
   "id": "fd7cba63",
   "metadata": {},
   "source": [
    "* Words like \"a\" and \"the\" appear so frequently that they don't require tagging as thorougly as nouns, verbs and modifiers.\n",
    "* We call these stop words, and they ca be filtered from the text to be processed.\n",
    "* Spacy holds a built-in list of some 326 english stop words and updating at times"
   ]
  },
  {
   "cell_type": "code",
   "execution_count": 31,
   "id": "5903ed50",
   "metadata": {},
   "outputs": [
    {
     "name": "stdout",
     "output_type": "stream",
     "text": [
      "{'elsewhere', 'side', 'call', 'name', 'every', 'about', 'doing', 'nothing', 'itself', 'therein', 'third', 'if', 'ca', 'well', 'will', \"'ll\", '’ve', 'hundred', 'cannot', 'thence', 'why', 'within', 'many', \"n't\", 'six', 'us', 'beside', 'indeed', 'although', 'nowhere', 'whereas', 'thereby', 'throughout', 'none', 'someone', 'other', 'then', 'seemed', 'herself', 'been', 'mostly', 'because', 'latterly', 'ever', 'even', 'between', 'around', 'am', 'besides', 'our', 'nine', 'one', 'nor', 'n‘t', 'really', 'already', 'former', 'he', 'would', 'hers', 'very', 'few', 'please', 'thereupon', 'whereafter', 'always', 'everywhere', 'latter', 'together', '’m', 'full', 'could', 'hence', 'make', 'whatever', '‘s', 'so', 'formerly', 'more', 'have', 'used', 'does', 'forty', 'through', 'several', 'nevertheless', 'due', 'some', 'hereby', 'his', 'beforehand', 'had', 'himself', 'becomes', 'who', 'get', 'of', 'move', 'enough', 'we', 'unless', 'with', 'never', 'somehow', 'too', 'sometime', 'down', 'might', 'anything', 'via', 're', 'keep', 'first', 'n’t', 'various', 'since', 'thus', 'fifty', 'behind', 'they', 'the', 'their', 'them', 'alone', 'front', 'was', 'sixty', 'less', 'just', 'in', 'otherwise', 'do', 'however', 'twenty', '‘m', 'are', 'per', '‘ll', 'mine', 'whence', 'among', 'your', 'most', 'over', 'towards', 'than', 'top', 'wherein', 'done', 'much', 'out', 'bottom', 'moreover', '‘d', 'amount', 'show', 'become', 'anyhow', 'on', 'regarding', 'only', 'any', 'ours', 'yet', 'by', 'has', '’re', 'rather', 'without', 'as', 'below', 'using', 'where', 'whereupon', 'nobody', 'seem', 'everything', 'here', 'such', 'became', 'that', \"'d\", 'becoming', \"'s\", 'is', 'thereafter', 'yourself', 'often', 'made', 'up', 'against', 'whoever', 'serious', 'two', 'yourselves', 'whose', 'quite', 'now', 'each', 'namely', 'amongst', 'onto', 'herein', 'hereupon', 'not', 'least', 'whether', 'whither', 'or', 'before', 'except', 'ourselves', 'seems', 'me', 'from', 'whenever', 'myself', 'else', 'along', 'an', 'at', 'anyway', 'whom', 'back', \"'re\", 'perhaps', 'to', 'above', 'these', 'both', 'can', 'i', '’s', 'others', 'those', 'while', '‘ve', 'somewhere', 'whereby', 'seeming', 'also', 'either', 'four', 'beyond', 'say', 'once', 'something', '’ll', 'a', 'how', 'into', 'under', 'next', 'five', 'neither', 'it', 'three', 'did', 'eleven', 'and', 'themselves', 'she', 'must', 'what', \"'ve\", 'noone', 'him', 'be', 'off', 'whole', 'you', 'twelve', 'should', 'almost', 'another', 'this', 'may', '’d', 'thru', 'were', 'give', 'though', 'toward', 'afterwards', 'see', 'which', 'go', 'no', 'ten', 'all', '‘re', 'take', 'eight', 'same', 'there', 'last', 'until', 'after', 'but', 'further', 'own', 'everyone', 'her', 'when', 'across', 'still', 'part', 'its', 'during', 'anywhere', 'upon', 'sometimes', \"'m\", 'being', 'anyone', 'empty', 'put', 'my', 'yours', 'fifteen', 'wherever', 'hereafter', 'meanwhile', 'therefore', 'for', 'again'}\n"
     ]
    }
   ],
   "source": [
    "print(nlp.Defaults.stop_words)# set to stop words"
   ]
  },
  {
   "cell_type": "code",
   "execution_count": 32,
   "id": "33ad8f70",
   "metadata": {},
   "outputs": [
    {
     "data": {
      "text/plain": [
       "326"
      ]
     },
     "execution_count": 32,
     "metadata": {},
     "output_type": "execute_result"
    }
   ],
   "source": [
    "len(nlp.Defaults.stop_words)"
   ]
  },
  {
   "cell_type": "code",
   "execution_count": 35,
   "id": "80e3574b",
   "metadata": {},
   "outputs": [
    {
     "data": {
      "text/plain": [
       "True"
      ]
     },
     "execution_count": 35,
     "metadata": {},
     "output_type": "execute_result"
    }
   ],
   "source": [
    "nlp.vocab['is'].is_stop # to know it is stop word or not"
   ]
  },
  {
   "cell_type": "code",
   "execution_count": 36,
   "id": "a98732f8",
   "metadata": {},
   "outputs": [
    {
     "data": {
      "text/plain": [
       "False"
      ]
     },
     "execution_count": 36,
     "metadata": {},
     "output_type": "execute_result"
    }
   ],
   "source": [
    "nlp.vocab[\"mystery\"].is_stop"
   ]
  },
  {
   "cell_type": "markdown",
   "id": "0be10498",
   "metadata": {},
   "source": [
    "#### There may be time where we wish to add a stop word to he  default set."
   ]
  },
  {
   "cell_type": "code",
   "execution_count": 37,
   "id": "3a97bf1c",
   "metadata": {},
   "outputs": [],
   "source": [
    "nlp.Defaults.stop_words.add(\"btw\")"
   ]
  },
  {
   "cell_type": "code",
   "execution_count": 38,
   "id": "90832e0e",
   "metadata": {},
   "outputs": [],
   "source": [
    "nlp.vocab[\"btw\"].is_stop = True"
   ]
  },
  {
   "cell_type": "code",
   "execution_count": 39,
   "id": "b3d76ad3",
   "metadata": {},
   "outputs": [
    {
     "data": {
      "text/plain": [
       "327"
      ]
     },
     "execution_count": 39,
     "metadata": {},
     "output_type": "execute_result"
    }
   ],
   "source": [
    "len(nlp.Defaults.stop_words)"
   ]
  },
  {
   "cell_type": "code",
   "execution_count": 40,
   "id": "af0ab108",
   "metadata": {},
   "outputs": [
    {
     "data": {
      "text/plain": [
       "True"
      ]
     },
     "execution_count": 40,
     "metadata": {},
     "output_type": "execute_result"
    }
   ],
   "source": [
    "nlp.vocab[\"btw\"].is_stop"
   ]
  },
  {
   "cell_type": "markdown",
   "id": "5ba8dfa7",
   "metadata": {},
   "source": [
    "#### If you want to remove a stop word"
   ]
  },
  {
   "cell_type": "code",
   "execution_count": 41,
   "id": "12dba1e3",
   "metadata": {},
   "outputs": [],
   "source": [
    "nlp.Defaults.stop_words.remove(\"beyond\")"
   ]
  },
  {
   "cell_type": "code",
   "execution_count": 42,
   "id": "0f9279b5",
   "metadata": {},
   "outputs": [],
   "source": [
    "nlp.vocab[\"beyond\"].is_stop = False"
   ]
  },
  {
   "cell_type": "code",
   "execution_count": 43,
   "id": "e5e9e957",
   "metadata": {},
   "outputs": [
    {
     "data": {
      "text/plain": [
       "False"
      ]
     },
     "execution_count": 43,
     "metadata": {},
     "output_type": "execute_result"
    }
   ],
   "source": [
    "nlp.vocab[\"beyond\"].is_stop"
   ]
  },
  {
   "cell_type": "markdown",
   "id": "65aaf8e5",
   "metadata": {},
   "source": [
    "# <span style = \"color:#68026e;font-family:calibri\"> Vocabulary and Phrase Matching"
   ]
  },
  {
   "cell_type": "markdown",
   "id": "4a5b3d9b",
   "metadata": {},
   "source": [
    "* So far we've seen how a body off text is divided into tokens, and how individual tokens are parsed and tagged with parts of speech, dependecies and lemmas.\n",
    "* We will no identify and label specifc phrases that match patterns we can define outselves"
   ]
  },
  {
   "cell_type": "markdown",
   "id": "2111b3c6",
   "metadata": {},
   "source": [
    "* We can think of this as a powerful version of `Regular  Expression` where we actually take parts of speech ino account for our pattern search."
   ]
  },
  {
   "cell_type": "markdown",
   "id": "6474e06e",
   "metadata": {},
   "source": [
    "## `Rule Based Matching`"
   ]
  },
  {
   "cell_type": "markdown",
   "id": "dd6ab63f",
   "metadata": {},
   "source": [
    "#### Spacy offers a rule based matching tool called `Matcher` and that allows you to build a library of token patterns then match those patterns against a doc object to returning list of found matches"
   ]
  },
  {
   "cell_type": "code",
   "execution_count": 44,
   "id": "c63916a5",
   "metadata": {},
   "outputs": [],
   "source": [
    "from spacy.matcher import Matcher"
   ]
  },
  {
   "cell_type": "code",
   "execution_count": 55,
   "id": "aaca9ea6",
   "metadata": {},
   "outputs": [],
   "source": [
    "matcher = Matcher(nlp.vocab)"
   ]
  },
  {
   "cell_type": "markdown",
   "id": "25cd9502",
   "metadata": {},
   "source": [
    "\n",
    "\n",
    "The following quantifiers can be passed to the `'OP'` key:\n",
    "<table><tr><th>OP</th><th>Description</th></tr>\n",
    "\n",
    "<tr ><td><span >\\!</span></td><td>Negate the pattern, by requiring it to match exactly 0 times</td></tr>\n",
    "<tr ><td><span >?</span></td><td>Make the pattern optional, by allowing it to match 0 or 1 times</td></tr>\n",
    "<tr ><td><span >\\+</span></td><td>Require the pattern to match 1 or more times</td></tr>\n",
    "<tr ><td><span >\\*</span></td><td>Allow the pattern to match zero or more times</td></tr>\n",
    "</table>\n"
   ]
  },
  {
   "cell_type": "markdown",
   "id": "900965c2",
   "metadata": {},
   "source": [
    "## Other token attributes\n",
    "Besides lemmas, there are a variety of token attributes we can use to determine matching rules:\n",
    "<table><tr><th>Attribute</th><th>Description</th></tr>\n",
    "\n",
    "<tr ><td><span >`ORTH`</span></td><td>The exact verbatim text of a token</td></tr>\n",
    "<tr ><td><span >`LOWER`</span></td><td>The lowercase form of the token text</td></tr>\n",
    "<tr ><td><span >`LENGTH`</span></td><td>The length of the token text</td></tr>\n",
    "<tr ><td><span >`IS_ALPHA`, `IS_ASCII`, `IS_DIGIT`</span></td><td>Token text consists of alphanumeric characters, ASCII characters, digits</td></tr>\n",
    "<tr ><td><span >`IS_LOWER`, `IS_UPPER`, `IS_TITLE`</span></td><td>Token text is in lowercase, uppercase, titlecase</td></tr>\n",
    "<tr ><td><span >`IS_PUNCT`, `IS_SPACE`, `IS_STOP`</span></td><td>Token is punctuation, whitespace, stop word</td></tr>\n",
    "<tr ><td><span >`LIKE_NUM`, `LIKE_URL`, `LIKE_EMAIL`</span></td><td>Token text resembles a number, URL, email</td></tr>\n",
    "<tr ><td><span >`POS`, `TAG`, `DEP`, `LEMMA`, `SHAPE`</span></td><td>The token's simple and extended part-of-speech tag, dependency label, lemma, shape</td></tr>\n",
    "<tr ><td><span >`ENT_TYPE`</span></td><td>The token's entity label</td></tr>\n",
    "\n",
    "</table>"
   ]
  },
  {
   "cell_type": "code",
   "execution_count": 48,
   "id": "6abe0c9d",
   "metadata": {},
   "outputs": [],
   "source": [
    "pattern1 = [{\"LOWER\":'solarpower'}]\n",
    "pattern2 = [{\"LOWER\":'solar'},{\"IS_PUNCT\":True}, {\"LOWER\":'power'}]\n",
    "pattern3 = [{\"LOWER\":'solar'},{'LOWER':'power'}]"
   ]
  },
  {
   "cell_type": "markdown",
   "id": "135c8a27",
   "metadata": {},
   "source": [
    "#### We want to detect solarpower\n",
    "* if it appears as one word \"SolarPower\"\n",
    "* if it apprars as \"Solar-Power\"\n",
    "* if it appears as \"Solar power\""
   ]
  },
  {
   "cell_type": "code",
   "execution_count": 59,
   "id": "869d2a82",
   "metadata": {},
   "outputs": [],
   "source": [
    "matcher.add('SolarPower', [pattern1,pattern2,pattern3])# we have added the three patterns to the matcher under the Solar Power\n"
   ]
  },
  {
   "cell_type": "code",
   "execution_count": 60,
   "id": "4b239e5f",
   "metadata": {},
   "outputs": [],
   "source": [
    "doc = nlp(u\"The Solar Power industry continues to grow a solarpower increases. Solar-power is amzaing\")"
   ]
  },
  {
   "cell_type": "code",
   "execution_count": 62,
   "id": "6d464ccd",
   "metadata": {},
   "outputs": [],
   "source": [
    "found_matches= matcher(doc)"
   ]
  },
  {
   "cell_type": "code",
   "execution_count": 64,
   "id": "a0a488a0",
   "metadata": {},
   "outputs": [
    {
     "name": "stdout",
     "output_type": "stream",
     "text": [
      "[(8656102463236116519, 1, 3), (8656102463236116519, 8, 9), (8656102463236116519, 11, 14)]\n"
     ]
    }
   ],
   "source": [
    "print(found_matches)"
   ]
  },
  {
   "cell_type": "markdown",
   "id": "51f39aec",
   "metadata": {},
   "source": [
    "#### Matcher has returned tuples with 3 pieces of information , 1st is the Match id, and then the start and stop index"
   ]
  },
  {
   "cell_type": "code",
   "execution_count": 65,
   "id": "953030b1",
   "metadata": {},
   "outputs": [
    {
     "name": "stdout",
     "output_type": "stream",
     "text": [
      "8656102463236116519 SolarPower 1 3 Solar Power\n",
      "8656102463236116519 SolarPower 8 9 solarpower\n",
      "8656102463236116519 SolarPower 11 14 Solar-power\n"
     ]
    }
   ],
   "source": [
    "for match_id, start, end in found_matches:\n",
    "    string_id = nlp.vocab.strings[match_id]  # get string representation\n",
    "    span = doc[start:end]                    # get the matched span\n",
    "    print(match_id, string_id, start, end, span.text)"
   ]
  },
  {
   "cell_type": "markdown",
   "id": "1aef0dea",
   "metadata": {},
   "source": [
    "#### We can token rule optional by passing OP* arguments, as that let's us streamline out pattern's list"
   ]
  },
  {
   "cell_type": "markdown",
   "id": "9d34800c",
   "metadata": {},
   "source": [
    "#### Before that let's see how to remove the patterns"
   ]
  },
  {
   "cell_type": "code",
   "execution_count": 66,
   "id": "ed15dc10",
   "metadata": {},
   "outputs": [],
   "source": [
    "matcher.remove('SolarPower')"
   ]
  },
  {
   "cell_type": "code",
   "execution_count": 71,
   "id": "7cee93b2",
   "metadata": {},
   "outputs": [],
   "source": [
    "pattern1 = [{\"LOWER\":'solarpower'}]\n",
    "pattern2 = [{'LOWER':'solar'},{'IS_PUNCT': True,\"OP\":\"*\"},{\"LOWER\":'power'}]"
   ]
  },
  {
   "cell_type": "code",
   "execution_count": 72,
   "id": "c6a2b24f",
   "metadata": {},
   "outputs": [],
   "source": [
    "matcher.add('SolarPower',[pattern1,pattern2])"
   ]
  },
  {
   "cell_type": "code",
   "execution_count": 73,
   "id": "9d5b4138",
   "metadata": {},
   "outputs": [],
   "source": [
    "doc2 = nlp(u\"Solar--power is solarpower yat!\")"
   ]
  },
  {
   "cell_type": "code",
   "execution_count": 74,
   "id": "c0a26f22",
   "metadata": {},
   "outputs": [],
   "source": [
    "found_matches = matcher(doc2)"
   ]
  },
  {
   "cell_type": "code",
   "execution_count": 75,
   "id": "7021c905",
   "metadata": {},
   "outputs": [
    {
     "name": "stdout",
     "output_type": "stream",
     "text": [
      "[(8656102463236116519, 0, 3), (8656102463236116519, 4, 5)]\n"
     ]
    }
   ],
   "source": [
    "print(found_matches)"
   ]
  },
  {
   "cell_type": "markdown",
   "id": "2c961279",
   "metadata": {},
   "source": [
    "#### Let's now explore `Phrase Matching`"
   ]
  },
  {
   "cell_type": "markdown",
   "id": "b57ac70e",
   "metadata": {},
   "source": [
    "#### We saw above how we can use token patterns to perform rule based matching. In alternative and often more efficient method is to actually match on a terminology list and in that case we will use a `Phrase Matcher` in order to create a document object from a list of phases "
   ]
  },
  {
   "cell_type": "code",
   "execution_count": 116,
   "id": "35d443d2",
   "metadata": {},
   "outputs": [],
   "source": [
    "from spacy.matcher import PhraseMatcher"
   ]
  },
  {
   "cell_type": "code",
   "execution_count": 117,
   "id": "54eec047",
   "metadata": {},
   "outputs": [],
   "source": [
    "ph_matcher = PhraseMatcher(nlp.vocab)"
   ]
  },
  {
   "cell_type": "code",
   "execution_count": 119,
   "id": "88aea4b7",
   "metadata": {},
   "outputs": [],
   "source": [
    "with open(\"reaganomics.txt\") as f:\n",
    "    doc2 = nlp(f.read())"
   ]
  },
  {
   "cell_type": "code",
   "execution_count": 120,
   "id": "66eb683c",
   "metadata": {},
   "outputs": [],
   "source": [
    "phrase_list = [\"Voodoo economics\", \"suppy-side economics\", 'trickle-down economics', 'free-market economics']"
   ]
  },
  {
   "cell_type": "markdown",
   "id": "c98d8827",
   "metadata": {},
   "source": [
    "#### We created list of phrases now we can convert each phrase to document object"
   ]
  },
  {
   "cell_type": "code",
   "execution_count": 121,
   "id": "c7b4ae54",
   "metadata": {},
   "outputs": [],
   "source": [
    "phrase_patterns = [nlp(text) for text in phrase_list]"
   ]
  },
  {
   "cell_type": "code",
   "execution_count": 122,
   "id": "5664f8c7",
   "metadata": {},
   "outputs": [],
   "source": [
    "ph_matcher.add(\"EconMatcher\",None,*phrase_patterns)"
   ]
  },
  {
   "cell_type": "code",
   "execution_count": 123,
   "id": "f1c4a5dc",
   "metadata": {},
   "outputs": [],
   "source": [
    "matches = ph_matcher(doc2)"
   ]
  },
  {
   "cell_type": "code",
   "execution_count": 124,
   "id": "d8f8a081",
   "metadata": {},
   "outputs": [
    {
     "name": "stdout",
     "output_type": "stream",
     "text": [
      "[(3680293220734633682, 49, 53), (3680293220734633682, 61, 65), (3680293220734633682, 2987, 2991)]\n"
     ]
    }
   ],
   "source": [
    "print(matches)"
   ]
  },
  {
   "cell_type": "code",
   "execution_count": 127,
   "id": "99098934",
   "metadata": {},
   "outputs": [
    {
     "name": "stdout",
     "output_type": "stream",
     "text": [
      "3680293220734633682 EconMatcher 49 53 economics, referred to as trickle-down economics or voodoo economics by political\n",
      "3680293220734633682 EconMatcher 61 65 by political opponents, and free-market economics by political advocates.\n",
      "\n",
      "\n",
      "3680293220734633682 EconMatcher 2987 2991 became widely known as \"trickle-down economics\", due to the\n"
     ]
    }
   ],
   "source": [
    "for match_id, start, end in matches:\n",
    "    string_id = nlp.vocab.strings[match_id]  # get string representation\n",
    "    span = doc2[start-5:end+5]                    # get the matched span\n",
    "    print(match_id, string_id, start, end, span.text)"
   ]
  },
  {
   "cell_type": "markdown",
   "id": "ae323efd",
   "metadata": {},
   "source": [
    "# <span style = \"color:#68026e;font-family:calibri\"> NLP Basics Excerise"
   ]
  },
  {
   "cell_type": "code",
   "execution_count": 128,
   "id": "86bd0652",
   "metadata": {},
   "outputs": [],
   "source": [
    "import spacy\n",
    "nlp = spacy.load('en_core_web_sm')"
   ]
  },
  {
   "cell_type": "markdown",
   "id": "440ee6a0",
   "metadata": {},
   "source": [
    "**1. Create a Doc object from the file `owlcreek.txt`**<br>\n",
    "> HINT: Use `with open('../TextFiles/owlcreek.txt') as f:`"
   ]
  },
  {
   "cell_type": "code",
   "execution_count": 161,
   "id": "ad0fdf35",
   "metadata": {},
   "outputs": [],
   "source": [
    "with open (\"owlcreek.txt\") as f:\n",
    "    doc = nlp(f.read())"
   ]
  },
  {
   "cell_type": "code",
   "execution_count": 162,
   "id": "9615d8c7",
   "metadata": {},
   "outputs": [
    {
     "data": {
      "text/plain": [
       "AN OCCURRENCE AT OWL CREEK BRIDGE\n",
       "\n",
       "by Ambrose Bierce\n",
       "\n",
       "I\n",
       "\n",
       "A man stood upon a railroad bridge in northern Alabama, looking down\n",
       "into the swift water twenty feet below.  "
      ]
     },
     "execution_count": 162,
     "metadata": {},
     "output_type": "execute_result"
    }
   ],
   "source": [
    "doc[:36]"
   ]
  },
  {
   "cell_type": "markdown",
   "id": "873e051d",
   "metadata": {},
   "source": [
    "**2. How many tokens are contained in the file?**"
   ]
  },
  {
   "cell_type": "code",
   "execution_count": 163,
   "id": "8477a254",
   "metadata": {},
   "outputs": [
    {
     "data": {
      "text/plain": [
       "4835"
      ]
     },
     "execution_count": 163,
     "metadata": {},
     "output_type": "execute_result"
    }
   ],
   "source": [
    "len(doc)"
   ]
  },
  {
   "cell_type": "markdown",
   "id": "e442dce9",
   "metadata": {},
   "source": [
    "**3. How many sentences are contained in the file?**<br>HINT: You'll want to build a list first!"
   ]
  },
  {
   "cell_type": "code",
   "execution_count": 164,
   "id": "b49da5d2",
   "metadata": {
    "scrolled": true
   },
   "outputs": [],
   "source": [
    "doc_sentence = [sent for sent in doc.sents]\n"
   ]
  },
  {
   "cell_type": "code",
   "execution_count": 165,
   "id": "3994caad",
   "metadata": {},
   "outputs": [
    {
     "data": {
      "text/plain": [
       "205"
      ]
     },
     "execution_count": 165,
     "metadata": {},
     "output_type": "execute_result"
    }
   ],
   "source": [
    "len(doc_sentence)"
   ]
  },
  {
   "cell_type": "markdown",
   "id": "ad805b93",
   "metadata": {},
   "source": [
    "*4. Print the second sentence in the document**<br> HINT: Indexing starts at zero, and the title counts as the first sentence."
   ]
  },
  {
   "cell_type": "code",
   "execution_count": 166,
   "id": "42790ff2",
   "metadata": {},
   "outputs": [
    {
     "name": "stdout",
     "output_type": "stream",
     "text": [
      " The man's hands were behind\n",
      "his back, the wrists bound with a cord.\n"
     ]
    }
   ],
   "source": [
    "print(doc_sentence[1].text)"
   ]
  },
  {
   "cell_type": "markdown",
   "id": "5410d700",
   "metadata": {},
   "source": [
    "** 5. For each token in the sentence above, print its `text`, `POS` tag, `dep` tag and `lemma`<br>\n",
    "CHALLENGE: Have values line up in columns in the print output.**"
   ]
  },
  {
   "cell_type": "code",
   "execution_count": 145,
   "id": "50b5c528",
   "metadata": {},
   "outputs": [
    {
     "name": "stdout",
     "output_type": "stream",
     "text": [
      "             SPACE        dep              \n",
      "The          DET          det             the\n",
      "man          NOUN         poss            man\n",
      "'s           PART         case            's\n",
      "hands        NOUN         nsubj           hand\n",
      "were         AUX          ROOT            be\n",
      "behind       ADP          prep            behind\n",
      "\n",
      "            SPACE        dep             \n",
      "\n",
      "his          PRON         poss            his\n",
      "back         NOUN         pobj            back\n",
      ",            PUNCT        punct           ,\n",
      "the          DET          det             the\n",
      "wrists       NOUN         dep             wrist\n",
      "bound        VERB         acl             bind\n",
      "with         ADP          prep            with\n",
      "a            DET          det             a\n",
      "cord         NOUN         pobj            cord\n",
      ".            PUNCT        punct           .\n"
     ]
    }
   ],
   "source": [
    "for token in doc_sentence[1]:\n",
    "    print(f'{token.text:{12}} {token.pos_:{12}} {token.dep_:{15}} {token.lemma_}')"
   ]
  },
  {
   "cell_type": "markdown",
   "id": "a6f49352",
   "metadata": {},
   "source": [
    "**6. Write a matcher called 'Swimming' that finds both occurrences of the phrase \"swimming vigorously\" in the text**<br>\n",
    "HINT: You should include an `'IS_SPACE': True` pattern between the two words!"
   ]
  },
  {
   "cell_type": "code",
   "execution_count": 167,
   "id": "8d17d803",
   "metadata": {},
   "outputs": [],
   "source": [
    "\n",
    "pattern2  = [{\"LOWER\":'swimming'},{\"IS_SPACE\":True},{\"LOWER\":'vigorously'}]"
   ]
  },
  {
   "cell_type": "code",
   "execution_count": 149,
   "id": "a46fa225",
   "metadata": {},
   "outputs": [],
   "source": [
    "from spacy.matcher import Matcher"
   ]
  },
  {
   "cell_type": "code",
   "execution_count": 150,
   "id": "88e3da8d",
   "metadata": {},
   "outputs": [],
   "source": [
    "matcher = Matcher(nlp.vocab)"
   ]
  },
  {
   "cell_type": "code",
   "execution_count": 168,
   "id": "ce6b71fd",
   "metadata": {},
   "outputs": [],
   "source": [
    "matcher.add(\"Swimming\",[pattern2])"
   ]
  },
  {
   "cell_type": "code",
   "execution_count": 169,
   "id": "945ca1d1",
   "metadata": {},
   "outputs": [],
   "source": [
    "found_match = matcher(doc)"
   ]
  },
  {
   "cell_type": "code",
   "execution_count": 170,
   "id": "bc64ba85",
   "metadata": {},
   "outputs": [
    {
     "name": "stdout",
     "output_type": "stream",
     "text": [
      "[(12881893835109366681, 1274, 1277), (12881893835109366681, 3609, 3612)]\n"
     ]
    }
   ],
   "source": [
    "print(found_match)"
   ]
  },
  {
   "cell_type": "code",
   "execution_count": 171,
   "id": "e0a8ff91",
   "metadata": {},
   "outputs": [
    {
     "name": "stdout",
     "output_type": "stream",
     "text": [
      "12881893835109366681 Swimming 1274 1277 evade the bullets and, swimming\n",
      "vigorously, reach the bank,\n",
      "12881893835109366681 Swimming 3609 3612 shoulder; he was now swimming\n",
      "vigorously with the current.  \n"
     ]
    }
   ],
   "source": [
    "for match_id, start, end in found_match:\n",
    "    string_id = nlp.vocab.strings[match_id]  # get string representation\n",
    "    span = doc[start-5:end+5]                    # get the matched span\n",
    "    print(match_id, string_id, start, end, span.text)"
   ]
  },
  {
   "cell_type": "markdown",
   "id": "e34d348c",
   "metadata": {},
   "source": [
    "**7. Print the text surrounding each found match**"
   ]
  },
  {
   "cell_type": "code",
   "execution_count": 160,
   "id": "518448fd",
   "metadata": {},
   "outputs": [
    {
     "name": "stdout",
     "output_type": "stream",
     "text": [
      "12881893835109366681 Swimming 1274 1277  By diving I could evade the bullets and, swimming\n",
      "vigorously, reach the bank, take to the woods and\n",
      "12881893835109366681 Swimming 3609 3612 saw all this over his shoulder; he was now swimming\n",
      "vigorously with the current.  His brain was as energetic\n"
     ]
    }
   ],
   "source": [
    "for match_id, start, end in found_match:\n",
    "    string_id = nlp.vocab.strings[match_id]  # get string representation\n",
    "    span = doc[start-10:end+10]                    # get the matched span\n",
    "    print(match_id, string_id, start, end, span.text)"
   ]
  },
  {
   "cell_type": "markdown",
   "id": "28a0aa6f",
   "metadata": {},
   "source": [
    "**<br>Print the *sentence* that contains each found match**"
   ]
  },
  {
   "cell_type": "code",
   "execution_count": 172,
   "id": "101a08dd",
   "metadata": {},
   "outputs": [
    {
     "name": "stdout",
     "output_type": "stream",
     "text": [
      " By diving I could evade the bullets and, swimming\n",
      "vigorously, reach the bank, take to the woods and get away home.\n"
     ]
    }
   ],
   "source": [
    "for sentence in doc_sentence:\n",
    "    if found_match[0][1]<sentence.end:\n",
    "        print(sentence)\n",
    "        break"
   ]
  },
  {
   "cell_type": "code",
   "execution_count": 173,
   "id": "25ae2f17",
   "metadata": {},
   "outputs": [
    {
     "name": "stdout",
     "output_type": "stream",
     "text": [
      "\n",
      "\n",
      "The hunted man saw all this over his shoulder; he was now swimming\n",
      "vigorously with the current.\n"
     ]
    }
   ],
   "source": [
    "for sentence in doc_sentence:\n",
    "    if found_match[1][1]<sentence.end:\n",
    "        print(sentence)\n",
    "        break"
   ]
  },
  {
   "cell_type": "markdown",
   "id": "0f60e0af",
   "metadata": {},
   "source": [
    "# `Thank You!`"
   ]
  },
  {
   "cell_type": "code",
   "execution_count": null,
   "id": "fe6bdf51",
   "metadata": {},
   "outputs": [],
   "source": []
  }
 ],
 "metadata": {
  "kernelspec": {
   "display_name": "Python 3 (ipykernel)",
   "language": "python",
   "name": "python3"
  },
  "language_info": {
   "codemirror_mode": {
    "name": "ipython",
    "version": 3
   },
   "file_extension": ".py",
   "mimetype": "text/x-python",
   "name": "python",
   "nbconvert_exporter": "python",
   "pygments_lexer": "ipython3",
   "version": "3.9.13"
  }
 },
 "nbformat": 4,
 "nbformat_minor": 5
}
